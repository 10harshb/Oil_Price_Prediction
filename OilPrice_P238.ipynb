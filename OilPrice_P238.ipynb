{
 "cells": [
  {
   "cell_type": "markdown",
   "id": "1be13a16",
   "metadata": {
    "id": "1be13a16"
   },
   "source": [
    "# Oil Price Prediction P-238  Group 4"
   ]
  },
  {
   "cell_type": "code",
   "execution_count": null,
   "id": "2e31607f",
   "metadata": {
    "id": "2e31607f"
   },
   "outputs": [],
   "source": [
    "#Pandas helps you to perform data analysis and data manipulation in Python language\n",
    "import pandas as pd\n",
    "#NumPy is one of the most essential Python Libraries for scientific computing\n",
    "import numpy as np\n",
    "#Matplotlib is the most popular library for exploration and Basic data visualization in the Python\n",
    "import matplotlib.pyplot as plt\n",
    "\n",
    "#%matplotlib inline sets the backend of matplotlib to the 'inline' backend.\n",
    "%matplotlib inline\n",
    "\n",
    "#Seaborn for  high-level interface for drawing attractive and informative statistical graphics.\n",
    "import seaborn as sns\n",
    "\n",
    "\n",
    "import calendar\n",
    "from matplotlib.pylab import rcParams\n",
    "import datetime as dt\n",
    "rcParams['figure.figsize']=10,6\n",
    "from scipy.stats import boxcox\n",
    "from scipy import stats\n",
    "\n",
    "\n",
    "#The warn() function defined in the ' warning ' module is used to show ... is not displayed\n",
    "import warnings\n",
    "warnings.filterwarnings('ignore')"
   ]
  },
  {
   "cell_type": "code",
   "execution_count": 5,
   "id": "5991a41e",
   "metadata": {
    "colab": {
     "base_uri": "https://localhost:8080/",
     "height": 130
    },
    "executionInfo": {
     "elapsed": 512,
     "status": "error",
     "timestamp": 1686658634716,
     "user": {
      "displayName": "Venkat Pulavarthi",
      "userId": "15035141426138979437"
     },
     "user_tz": -330
    },
    "id": "5991a41e",
    "outputId": "b408deba-266b-4915-e53d-287fb0a2d8e1"
   },
   "outputs": [
    {
     "ename": "SyntaxError",
     "evalue": "ignored",
     "output_type": "error",
     "traceback": [
      "\u001b[0;36m  File \u001b[0;32m\"<ipython-input-5-ea4627218ecc>\"\u001b[0;36m, line \u001b[0;32m2\u001b[0m\n\u001b[0;31m    Oil_Price = pd.read_csv(\"C:\\Users\\my pc\\Downloads\\Crude oil.csv\")\u001b[0m\n\u001b[0m                                                                    ^\u001b[0m\n\u001b[0;31mSyntaxError\u001b[0m\u001b[0;31m:\u001b[0m (unicode error) 'unicodeescape' codec can't decode bytes in position 2-3: truncated \\UXXXXXXXX escape\n"
     ]
    }
   ],
   "source": [
    "# Loading Dataset\n",
    "Oil_Price = pd.read_csv(\"C:\\Users\\my pc\\Downloads\\Crude oil.csv\")"
   ]
  },
  {
   "cell_type": "code",
   "execution_count": null,
   "id": "d0a0edca",
   "metadata": {
    "id": "d0a0edca",
    "outputId": "7bc52363-06aa-411f-8fd8-8da84c78305c"
   },
   "outputs": [
    {
     "data": {
      "text/html": [
       "<div>\n",
       "<style scoped>\n",
       "    .dataframe tbody tr th:only-of-type {\n",
       "        vertical-align: middle;\n",
       "    }\n",
       "\n",
       "    .dataframe tbody tr th {\n",
       "        vertical-align: top;\n",
       "    }\n",
       "\n",
       "    .dataframe thead th {\n",
       "        text-align: right;\n",
       "    }\n",
       "</style>\n",
       "<table border=\"1\" class=\"dataframe\">\n",
       "  <thead>\n",
       "    <tr style=\"text-align: right;\">\n",
       "      <th></th>\n",
       "      <th>Date</th>\n",
       "      <th>Price</th>\n",
       "      <th>Open</th>\n",
       "      <th>High</th>\n",
       "      <th>Low</th>\n",
       "      <th>Volume</th>\n",
       "      <th>Chg%</th>\n",
       "    </tr>\n",
       "  </thead>\n",
       "  <tbody>\n",
       "    <tr>\n",
       "      <th>0</th>\n",
       "      <td>May-84</td>\n",
       "      <td>30.83</td>\n",
       "      <td>30.30</td>\n",
       "      <td>31.50</td>\n",
       "      <td>30.10</td>\n",
       "      <td>40.25K</td>\n",
       "      <td>1.88%</td>\n",
       "    </tr>\n",
       "    <tr>\n",
       "      <th>1</th>\n",
       "      <td>Jun-84</td>\n",
       "      <td>29.75</td>\n",
       "      <td>30.86</td>\n",
       "      <td>30.88</td>\n",
       "      <td>29.04</td>\n",
       "      <td>39.40K</td>\n",
       "      <td>-3.50%</td>\n",
       "    </tr>\n",
       "    <tr>\n",
       "      <th>2</th>\n",
       "      <td>Jul-84</td>\n",
       "      <td>27.60</td>\n",
       "      <td>29.82</td>\n",
       "      <td>29.99</td>\n",
       "      <td>27.55</td>\n",
       "      <td>54.91K</td>\n",
       "      <td>-7.23%</td>\n",
       "    </tr>\n",
       "    <tr>\n",
       "      <th>3</th>\n",
       "      <td>Aug-84</td>\n",
       "      <td>29.23</td>\n",
       "      <td>27.76</td>\n",
       "      <td>30.00</td>\n",
       "      <td>27.73</td>\n",
       "      <td>65.85K</td>\n",
       "      <td>5.91%</td>\n",
       "    </tr>\n",
       "    <tr>\n",
       "      <th>4</th>\n",
       "      <td>Sep-84</td>\n",
       "      <td>29.66</td>\n",
       "      <td>29.06</td>\n",
       "      <td>29.85</td>\n",
       "      <td>28.84</td>\n",
       "      <td>35.82K</td>\n",
       "      <td>1.47%</td>\n",
       "    </tr>\n",
       "    <tr>\n",
       "      <th>...</th>\n",
       "      <td>...</td>\n",
       "      <td>...</td>\n",
       "      <td>...</td>\n",
       "      <td>...</td>\n",
       "      <td>...</td>\n",
       "      <td>...</td>\n",
       "      <td>...</td>\n",
       "    </tr>\n",
       "    <tr>\n",
       "      <th>464</th>\n",
       "      <td>Jan-23</td>\n",
       "      <td>80.11</td>\n",
       "      <td>80.57</td>\n",
       "      <td>82.66</td>\n",
       "      <td>72.47</td>\n",
       "      <td>189.32K</td>\n",
       "      <td>-0.45%</td>\n",
       "    </tr>\n",
       "    <tr>\n",
       "      <th>465</th>\n",
       "      <td>Feb-23</td>\n",
       "      <td>77.05</td>\n",
       "      <td>79.12</td>\n",
       "      <td>80.61</td>\n",
       "      <td>72.25</td>\n",
       "      <td>300.09K</td>\n",
       "      <td>-3.82%</td>\n",
       "    </tr>\n",
       "    <tr>\n",
       "      <th>466</th>\n",
       "      <td>Mar-23</td>\n",
       "      <td>75.67</td>\n",
       "      <td>76.85</td>\n",
       "      <td>80.94</td>\n",
       "      <td>64.12</td>\n",
       "      <td>7.07M</td>\n",
       "      <td>-1.79%</td>\n",
       "    </tr>\n",
       "    <tr>\n",
       "      <th>467</th>\n",
       "      <td>Apr-23</td>\n",
       "      <td>76.78</td>\n",
       "      <td>80.27</td>\n",
       "      <td>83.53</td>\n",
       "      <td>73.93</td>\n",
       "      <td>328.40K</td>\n",
       "      <td>1.47%</td>\n",
       "    </tr>\n",
       "    <tr>\n",
       "      <th>468</th>\n",
       "      <td>May-23</td>\n",
       "      <td>70.04</td>\n",
       "      <td>76.13</td>\n",
       "      <td>76.28</td>\n",
       "      <td>63.70</td>\n",
       "      <td>365.89K</td>\n",
       "      <td>-8.78%</td>\n",
       "    </tr>\n",
       "  </tbody>\n",
       "</table>\n",
       "<p>469 rows × 7 columns</p>\n",
       "</div>"
      ],
      "text/plain": [
       "       Date  Price   Open   High    Low   Volume    Chg%\n",
       "0    May-84  30.83  30.30  31.50  30.10   40.25K   1.88%\n",
       "1    Jun-84  29.75  30.86  30.88  29.04   39.40K  -3.50%\n",
       "2    Jul-84  27.60  29.82  29.99  27.55   54.91K  -7.23%\n",
       "3    Aug-84  29.23  27.76  30.00  27.73   65.85K   5.91%\n",
       "4    Sep-84  29.66  29.06  29.85  28.84   35.82K   1.47%\n",
       "..      ...    ...    ...    ...    ...      ...     ...\n",
       "464  Jan-23  80.11  80.57  82.66  72.47  189.32K  -0.45%\n",
       "465  Feb-23  77.05  79.12  80.61  72.25  300.09K  -3.82%\n",
       "466  Mar-23  75.67  76.85  80.94  64.12    7.07M  -1.79%\n",
       "467  Apr-23  76.78  80.27  83.53  73.93  328.40K   1.47%\n",
       "468  May-23  70.04  76.13  76.28  63.70  365.89K  -8.78%\n",
       "\n",
       "[469 rows x 7 columns]"
      ]
     },
     "execution_count": 3,
     "metadata": {},
     "output_type": "execute_result"
    }
   ],
   "source": [
    "Oil_Price"
   ]
  },
  {
   "cell_type": "markdown",
   "id": "eef7bd56",
   "metadata": {
    "id": "eef7bd56"
   },
   "source": [
    "# EDA"
   ]
  },
  {
   "cell_type": "code",
   "execution_count": null,
   "id": "1f740234",
   "metadata": {
    "id": "1f740234",
    "outputId": "1f9c4575-acec-440b-b7e6-b06884dff9f9"
   },
   "outputs": [
    {
     "data": {
      "text/plain": [
       "(469, 7)"
      ]
     },
     "execution_count": 4,
     "metadata": {},
     "output_type": "execute_result"
    }
   ],
   "source": [
    "Oil_Price.shape"
   ]
  },
  {
   "cell_type": "code",
   "execution_count": null,
   "id": "40de2632",
   "metadata": {
    "id": "40de2632",
    "outputId": "8e4bf654-1ed1-4de2-be9e-88744870bc13"
   },
   "outputs": [
    {
     "data": {
      "text/html": [
       "<div>\n",
       "<style scoped>\n",
       "    .dataframe tbody tr th:only-of-type {\n",
       "        vertical-align: middle;\n",
       "    }\n",
       "\n",
       "    .dataframe tbody tr th {\n",
       "        vertical-align: top;\n",
       "    }\n",
       "\n",
       "    .dataframe thead th {\n",
       "        text-align: right;\n",
       "    }\n",
       "</style>\n",
       "<table border=\"1\" class=\"dataframe\">\n",
       "  <thead>\n",
       "    <tr style=\"text-align: right;\">\n",
       "      <th></th>\n",
       "      <th>Date</th>\n",
       "      <th>Price</th>\n",
       "      <th>Open</th>\n",
       "      <th>High</th>\n",
       "      <th>Low</th>\n",
       "      <th>Volume</th>\n",
       "      <th>Chg%</th>\n",
       "    </tr>\n",
       "  </thead>\n",
       "  <tbody>\n",
       "    <tr>\n",
       "      <th>0</th>\n",
       "      <td>May-84</td>\n",
       "      <td>30.83</td>\n",
       "      <td>30.30</td>\n",
       "      <td>31.50</td>\n",
       "      <td>30.10</td>\n",
       "      <td>40.25K</td>\n",
       "      <td>1.88%</td>\n",
       "    </tr>\n",
       "    <tr>\n",
       "      <th>1</th>\n",
       "      <td>Jun-84</td>\n",
       "      <td>29.75</td>\n",
       "      <td>30.86</td>\n",
       "      <td>30.88</td>\n",
       "      <td>29.04</td>\n",
       "      <td>39.40K</td>\n",
       "      <td>-3.50%</td>\n",
       "    </tr>\n",
       "    <tr>\n",
       "      <th>2</th>\n",
       "      <td>Jul-84</td>\n",
       "      <td>27.60</td>\n",
       "      <td>29.82</td>\n",
       "      <td>29.99</td>\n",
       "      <td>27.55</td>\n",
       "      <td>54.91K</td>\n",
       "      <td>-7.23%</td>\n",
       "    </tr>\n",
       "    <tr>\n",
       "      <th>3</th>\n",
       "      <td>Aug-84</td>\n",
       "      <td>29.23</td>\n",
       "      <td>27.76</td>\n",
       "      <td>30.00</td>\n",
       "      <td>27.73</td>\n",
       "      <td>65.85K</td>\n",
       "      <td>5.91%</td>\n",
       "    </tr>\n",
       "    <tr>\n",
       "      <th>4</th>\n",
       "      <td>Sep-84</td>\n",
       "      <td>29.66</td>\n",
       "      <td>29.06</td>\n",
       "      <td>29.85</td>\n",
       "      <td>28.84</td>\n",
       "      <td>35.82K</td>\n",
       "      <td>1.47%</td>\n",
       "    </tr>\n",
       "  </tbody>\n",
       "</table>\n",
       "</div>"
      ],
      "text/plain": [
       "     Date  Price   Open   High    Low  Volume    Chg%\n",
       "0  May-84  30.83  30.30  31.50  30.10  40.25K   1.88%\n",
       "1  Jun-84  29.75  30.86  30.88  29.04  39.40K  -3.50%\n",
       "2  Jul-84  27.60  29.82  29.99  27.55  54.91K  -7.23%\n",
       "3  Aug-84  29.23  27.76  30.00  27.73  65.85K   5.91%\n",
       "4  Sep-84  29.66  29.06  29.85  28.84  35.82K   1.47%"
      ]
     },
     "execution_count": 5,
     "metadata": {},
     "output_type": "execute_result"
    }
   ],
   "source": [
    "Oil_Price.head()"
   ]
  },
  {
   "cell_type": "code",
   "execution_count": null,
   "id": "8c7b8c21",
   "metadata": {
    "id": "8c7b8c21",
    "outputId": "650a6715-944b-460b-b8d5-ddea0909e31d"
   },
   "outputs": [
    {
     "data": {
      "text/plain": [
       "Date      0\n",
       "Price     0\n",
       "Open      0\n",
       "High      0\n",
       "Low       0\n",
       "Volume    0\n",
       "Chg%      0\n",
       "dtype: int64"
      ]
     },
     "execution_count": 6,
     "metadata": {},
     "output_type": "execute_result"
    }
   ],
   "source": [
    "Oil_Price.isna().sum()"
   ]
  },
  {
   "cell_type": "code",
   "execution_count": null,
   "id": "b80071f1",
   "metadata": {
    "id": "b80071f1",
    "outputId": "f1c17550-b51c-43ab-8a7e-fbab9050326b"
   },
   "outputs": [
    {
     "data": {
      "text/plain": [
       "Date       object\n",
       "Price     float64\n",
       "Open      float64\n",
       "High      float64\n",
       "Low       float64\n",
       "Volume     object\n",
       "Chg%       object\n",
       "dtype: object"
      ]
     },
     "execution_count": 7,
     "metadata": {},
     "output_type": "execute_result"
    }
   ],
   "source": [
    "Oil_Price.dtypes"
   ]
  },
  {
   "cell_type": "code",
   "execution_count": null,
   "id": "d89d4967",
   "metadata": {
    "id": "d89d4967",
    "outputId": "94a4ad77-65d4-41e0-b6d0-f1b7af4e6cc8"
   },
   "outputs": [
    {
     "data": {
      "text/plain": [
       "0      False\n",
       "1      False\n",
       "2      False\n",
       "3      False\n",
       "4      False\n",
       "       ...  \n",
       "464    False\n",
       "465    False\n",
       "466    False\n",
       "467    False\n",
       "468    False\n",
       "Length: 469, dtype: bool"
      ]
     },
     "execution_count": 8,
     "metadata": {},
     "output_type": "execute_result"
    }
   ],
   "source": [
    "Oil_Price.duplicated()"
   ]
  },
  {
   "cell_type": "code",
   "execution_count": null,
   "id": "d0999ae7",
   "metadata": {
    "id": "d0999ae7",
    "outputId": "8c77226c-de34-47de-f511-0b2e28380c69"
   },
   "outputs": [
    {
     "data": {
      "text/plain": [
       "(0, 7)"
      ]
     },
     "execution_count": 9,
     "metadata": {},
     "output_type": "execute_result"
    }
   ],
   "source": [
    "Oil_Price[Oil_Price.duplicated()].shape"
   ]
  },
  {
   "cell_type": "code",
   "execution_count": null,
   "id": "844c8876",
   "metadata": {
    "id": "844c8876",
    "outputId": "fa037fc7-bfab-4eb0-bc88-53f5ab4c5546"
   },
   "outputs": [
    {
     "data": {
      "text/html": [
       "<div>\n",
       "<style scoped>\n",
       "    .dataframe tbody tr th:only-of-type {\n",
       "        vertical-align: middle;\n",
       "    }\n",
       "\n",
       "    .dataframe tbody tr th {\n",
       "        vertical-align: top;\n",
       "    }\n",
       "\n",
       "    .dataframe thead th {\n",
       "        text-align: right;\n",
       "    }\n",
       "</style>\n",
       "<table border=\"1\" class=\"dataframe\">\n",
       "  <thead>\n",
       "    <tr style=\"text-align: right;\">\n",
       "      <th></th>\n",
       "      <th>Price</th>\n",
       "      <th>Open</th>\n",
       "      <th>High</th>\n",
       "      <th>Low</th>\n",
       "    </tr>\n",
       "  </thead>\n",
       "  <tbody>\n",
       "    <tr>\n",
       "      <th>count</th>\n",
       "      <td>469.000000</td>\n",
       "      <td>469.000000</td>\n",
       "      <td>469.000000</td>\n",
       "      <td>469.000000</td>\n",
       "    </tr>\n",
       "    <tr>\n",
       "      <th>mean</th>\n",
       "      <td>45.750149</td>\n",
       "      <td>45.657804</td>\n",
       "      <td>49.015693</td>\n",
       "      <td>42.083603</td>\n",
       "    </tr>\n",
       "    <tr>\n",
       "      <th>std</th>\n",
       "      <td>29.249297</td>\n",
       "      <td>29.268176</td>\n",
       "      <td>31.082286</td>\n",
       "      <td>27.423417</td>\n",
       "    </tr>\n",
       "    <tr>\n",
       "      <th>min</th>\n",
       "      <td>10.420000</td>\n",
       "      <td>9.950000</td>\n",
       "      <td>12.620000</td>\n",
       "      <td>-40.320000</td>\n",
       "    </tr>\n",
       "    <tr>\n",
       "      <th>25%</th>\n",
       "      <td>20.280000</td>\n",
       "      <td>20.250000</td>\n",
       "      <td>21.480000</td>\n",
       "      <td>19.090000</td>\n",
       "    </tr>\n",
       "    <tr>\n",
       "      <th>50%</th>\n",
       "      <td>33.510000</td>\n",
       "      <td>33.200000</td>\n",
       "      <td>36.370000</td>\n",
       "      <td>29.750000</td>\n",
       "    </tr>\n",
       "    <tr>\n",
       "      <th>75%</th>\n",
       "      <td>67.040000</td>\n",
       "      <td>67.010000</td>\n",
       "      <td>71.060000</td>\n",
       "      <td>61.740000</td>\n",
       "    </tr>\n",
       "    <tr>\n",
       "      <th>max</th>\n",
       "      <td>140.000000</td>\n",
       "      <td>140.180000</td>\n",
       "      <td>147.270000</td>\n",
       "      <td>121.610000</td>\n",
       "    </tr>\n",
       "  </tbody>\n",
       "</table>\n",
       "</div>"
      ],
      "text/plain": [
       "            Price        Open        High         Low\n",
       "count  469.000000  469.000000  469.000000  469.000000\n",
       "mean    45.750149   45.657804   49.015693   42.083603\n",
       "std     29.249297   29.268176   31.082286   27.423417\n",
       "min     10.420000    9.950000   12.620000  -40.320000\n",
       "25%     20.280000   20.250000   21.480000   19.090000\n",
       "50%     33.510000   33.200000   36.370000   29.750000\n",
       "75%     67.040000   67.010000   71.060000   61.740000\n",
       "max    140.000000  140.180000  147.270000  121.610000"
      ]
     },
     "execution_count": 10,
     "metadata": {},
     "output_type": "execute_result"
    }
   ],
   "source": [
    "Oil_Price.describe()"
   ]
  },
  {
   "cell_type": "code",
   "execution_count": null,
   "id": "c043fde1",
   "metadata": {
    "id": "c043fde1",
    "outputId": "851797b8-f0ed-4df0-b31d-5cd004abef33"
   },
   "outputs": [
    {
     "name": "stdout",
     "output_type": "stream",
     "text": [
      "<class 'pandas.core.frame.DataFrame'>\n",
      "RangeIndex: 469 entries, 0 to 468\n",
      "Data columns (total 7 columns):\n",
      " #   Column  Non-Null Count  Dtype  \n",
      "---  ------  --------------  -----  \n",
      " 0   Date    469 non-null    object \n",
      " 1   Price   469 non-null    float64\n",
      " 2   Open    469 non-null    float64\n",
      " 3   High    469 non-null    float64\n",
      " 4   Low     469 non-null    float64\n",
      " 5   Volume  469 non-null    object \n",
      " 6   Chg%    469 non-null    object \n",
      "dtypes: float64(4), object(3)\n",
      "memory usage: 25.8+ KB\n"
     ]
    }
   ],
   "source": [
    "Oil_Price.info()"
   ]
  },
  {
   "cell_type": "code",
   "execution_count": null,
   "id": "7846f011",
   "metadata": {
    "id": "7846f011",
    "outputId": "1454221d-11e7-4311-94d6-6bab7c352d3f"
   },
   "outputs": [
    {
     "data": {
      "text/html": [
       "<div>\n",
       "<style scoped>\n",
       "    .dataframe tbody tr th:only-of-type {\n",
       "        vertical-align: middle;\n",
       "    }\n",
       "\n",
       "    .dataframe tbody tr th {\n",
       "        vertical-align: top;\n",
       "    }\n",
       "\n",
       "    .dataframe thead th {\n",
       "        text-align: right;\n",
       "    }\n",
       "</style>\n",
       "<table border=\"1\" class=\"dataframe\">\n",
       "  <thead>\n",
       "    <tr style=\"text-align: right;\">\n",
       "      <th></th>\n",
       "      <th>Price</th>\n",
       "      <th>Open</th>\n",
       "      <th>High</th>\n",
       "      <th>Low</th>\n",
       "    </tr>\n",
       "  </thead>\n",
       "  <tbody>\n",
       "    <tr>\n",
       "      <th>Price</th>\n",
       "      <td>1.000000</td>\n",
       "      <td>0.985127</td>\n",
       "      <td>0.991706</td>\n",
       "      <td>0.990070</td>\n",
       "    </tr>\n",
       "    <tr>\n",
       "      <th>Open</th>\n",
       "      <td>0.985127</td>\n",
       "      <td>1.000000</td>\n",
       "      <td>0.994269</td>\n",
       "      <td>0.984903</td>\n",
       "    </tr>\n",
       "    <tr>\n",
       "      <th>High</th>\n",
       "      <td>0.991706</td>\n",
       "      <td>0.994269</td>\n",
       "      <td>1.000000</td>\n",
       "      <td>0.984043</td>\n",
       "    </tr>\n",
       "    <tr>\n",
       "      <th>Low</th>\n",
       "      <td>0.990070</td>\n",
       "      <td>0.984903</td>\n",
       "      <td>0.984043</td>\n",
       "      <td>1.000000</td>\n",
       "    </tr>\n",
       "  </tbody>\n",
       "</table>\n",
       "</div>"
      ],
      "text/plain": [
       "          Price      Open      High       Low\n",
       "Price  1.000000  0.985127  0.991706  0.990070\n",
       "Open   0.985127  1.000000  0.994269  0.984903\n",
       "High   0.991706  0.994269  1.000000  0.984043\n",
       "Low    0.990070  0.984903  0.984043  1.000000"
      ]
     },
     "execution_count": 12,
     "metadata": {},
     "output_type": "execute_result"
    }
   ],
   "source": [
    "Oil_Price.corr()"
   ]
  },
  {
   "cell_type": "markdown",
   "id": "e4870019",
   "metadata": {
    "id": "e4870019"
   },
   "source": [
    "## Outlier Detection\n",
    "\n",
    "## Box PLot"
   ]
  },
  {
   "cell_type": "code",
   "execution_count": null,
   "id": "9821ba86",
   "metadata": {
    "id": "9821ba86",
    "outputId": "fe1445cb-be7a-40fb-9198-1ad5e736b167"
   },
   "outputs": [
    {
     "data": {
      "image/png": "[encoded data removed]",
      "text/plain": [
       "<Figure size 864x144 with 1 Axes>"
      ]
     },
     "metadata": {
      "needs_background": "light"
     },
     "output_type": "display_data"
    }
   ],
   "source": [
    "fig = plt.subplots(figsize = (12, 2))\n",
    "sns.set_theme(style=\"whitegrid\")\n",
    "sns.boxplot( Oil_Price['Price'],color ='m')\n",
    "plt.title(\"Oil price history\")\n",
    "plt.xlabel('Price')\n",
    "plt.show()"
   ]
  },
  {
   "cell_type": "markdown",
   "id": "c69a7e92",
   "metadata": {
    "id": "c69a7e92"
   },
   "source": [
    "## Distplot"
   ]
  },
  {
   "cell_type": "code",
   "execution_count": null,
   "id": "03db274b",
   "metadata": {
    "id": "03db274b",
    "outputId": "6e386e08-d15e-4c87-c08a-532f35e216ec"
   },
   "outputs": [
    {
     "data": {
      "image/png": "[encoded data removed]",
      "text/plain": [
       "<Figure size 720x576 with 1 Axes>"
      ]
     },
     "metadata": {},
     "output_type": "display_data"
    }
   ],
   "source": [
    "sns.set()\n",
    "fig = plt.subplots(figsize = (10, 8))\n",
    "sns.distplot(Oil_Price['Price'], color ='r')\n",
    "plt.title(\"Oil price history\")\n",
    "plt.xlabel('Price')\n",
    "plt.show()"
   ]
  },
  {
   "cell_type": "raw",
   "id": "dbf8f568",
   "metadata": {
    "id": "dbf8f568"
   },
   "source": [
    "Histogram and Q-Q plot\n",
    "\n",
    "Q-Q plots and Histograms can be used to check the distribution of error terms."
   ]
  },
  {
   "cell_type": "code",
   "execution_count": null,
   "id": "08784a97",
   "metadata": {
    "id": "08784a97",
    "outputId": "39edc7a5-0505-4720-c641-58297f27715a"
   },
   "outputs": [
    {
     "data": {
      "text/plain": [
       "Text(0.5, 1.0, 'Quantile plot for Oil Price')"
      ]
     },
     "execution_count": 15,
     "metadata": {},
     "output_type": "execute_result"
    },
    {
     "data": {
      "image/png": "[encoded data removed]",
      "text/plain": [
       "<Figure size 1008x432 with 2 Axes>"
      ]
     },
     "metadata": {},
     "output_type": "display_data"
    }
   ],
   "source": [
    "from scipy import stats\n",
    "\n",
    "plt.figure(figsize=(14,6))\n",
    "plt.subplot(1,2,1)\n",
    "Oil_Price['Price'].hist(bins=50)\n",
    "plt.title('Oil Price')\n",
    "\n",
    "plt.subplot(1,2,2)\n",
    "stats.probplot(Oil_Price['Price'], plot=plt);\n",
    "plt.title('Quantile plot for Oil Price')"
   ]
  },
  {
   "cell_type": "markdown",
   "id": "fe83e156",
   "metadata": {
    "id": "fe83e156"
   },
   "source": [
    "# Visualisation"
   ]
  },
  {
   "cell_type": "code",
   "execution_count": null,
   "id": "84688c29",
   "metadata": {
    "id": "84688c29",
    "outputId": "af41c6d3-7871-4aa6-c629-f33c69066ec6"
   },
   "outputs": [
    {
     "data": {
      "text/plain": [
       "<AxesSubplot:>"
      ]
     },
     "execution_count": 16,
     "metadata": {},
     "output_type": "execute_result"
    },
    {
     "data": {
      "image/png": "[encoded data removed]",
      "text/plain": [
       "<Figure size 576x360 with 1 Axes>"
      ]
     },
     "metadata": {},
     "output_type": "display_data"
    }
   ],
   "source": [
    "# Histogram\n",
    "Oil_Price['Price'].hist(figsize=(8,5), color = 'g')"
   ]
  },
  {
   "cell_type": "code",
   "execution_count": null,
   "id": "7142f6a5",
   "metadata": {
    "id": "7142f6a5",
    "outputId": "7334c85f-7b96-4f45-a0eb-cff7fe36cbef"
   },
   "outputs": [
    {
     "data": {
      "text/plain": [
       "<AxesSubplot:ylabel='Density'>"
      ]
     },
     "execution_count": 17,
     "metadata": {},
     "output_type": "execute_result"
    },
    {
     "data": {
      "image/png": "[encoded data removed]",
      "text/plain": [
       "<Figure size 576x360 with 1 Axes>"
      ]
     },
     "metadata": {},
     "output_type": "display_data"
    }
   ],
   "source": [
    "# Density Plot\n",
    "Oil_Price['Price'].plot(kind = 'kde',linewidth=3 ,color = 'b', figsize=(8,5), grid= True)"
   ]
  },
  {
   "cell_type": "markdown",
   "id": "7305504a",
   "metadata": {
    "id": "7305504a"
   },
   "source": [
    "## Extract Month and Year values separately from 'Date column'"
   ]
  },
  {
   "cell_type": "code",
   "execution_count": null,
   "id": "97a42b7c",
   "metadata": {
    "id": "97a42b7c"
   },
   "outputs": [],
   "source": [
    "#  extract Month and Year values separately from 'Date column'\n",
    "#Oil_Price['Month'] = 0\n",
    "#Oil_Price['Year'] = 0\n",
    "Oil_Price['Year'] = Oil_Price['Date'].str[-2:]\n",
    "Oil_Price['Month'] = Oil_Price['Date'].str[0:3]\n",
    "\n",
    "#for i in range(469):\n",
    "  #  p = Oil_Price['Month'][i]\n",
    "  #  Oil_Price['Month'][i]= p[0:7]\n",
    "   # Oil_Price['Year'][i]= p[8:10]"
   ]
  },
  {
   "cell_type": "code",
   "execution_count": null,
   "id": "65841918",
   "metadata": {
    "id": "65841918",
    "outputId": "69b148a5-11cd-44c0-bb79-c0173f5895aa"
   },
   "outputs": [
    {
     "data": {
      "text/html": [
       "<div>\n",
       "<style scoped>\n",
       "    .dataframe tbody tr th:only-of-type {\n",
       "        vertical-align: middle;\n",
       "    }\n",
       "\n",
       "    .dataframe tbody tr th {\n",
       "        vertical-align: top;\n",
       "    }\n",
       "\n",
       "    .dataframe thead th {\n",
       "        text-align: right;\n",
       "    }\n",
       "</style>\n",
       "<table border=\"1\" class=\"dataframe\">\n",
       "  <thead>\n",
       "    <tr style=\"text-align: right;\">\n",
       "      <th></th>\n",
       "      <th>Date</th>\n",
       "      <th>Price</th>\n",
       "      <th>Open</th>\n",
       "      <th>High</th>\n",
       "      <th>Low</th>\n",
       "      <th>Volume</th>\n",
       "      <th>Chg%</th>\n",
       "      <th>Year</th>\n",
       "      <th>Month</th>\n",
       "    </tr>\n",
       "  </thead>\n",
       "  <tbody>\n",
       "    <tr>\n",
       "      <th>0</th>\n",
       "      <td>May-84</td>\n",
       "      <td>30.83</td>\n",
       "      <td>30.30</td>\n",
       "      <td>31.50</td>\n",
       "      <td>30.10</td>\n",
       "      <td>40.25K</td>\n",
       "      <td>1.88%</td>\n",
       "      <td>84</td>\n",
       "      <td>May</td>\n",
       "    </tr>\n",
       "    <tr>\n",
       "      <th>1</th>\n",
       "      <td>Jun-84</td>\n",
       "      <td>29.75</td>\n",
       "      <td>30.86</td>\n",
       "      <td>30.88</td>\n",
       "      <td>29.04</td>\n",
       "      <td>39.40K</td>\n",
       "      <td>-3.50%</td>\n",
       "      <td>84</td>\n",
       "      <td>Jun</td>\n",
       "    </tr>\n",
       "    <tr>\n",
       "      <th>2</th>\n",
       "      <td>Jul-84</td>\n",
       "      <td>27.60</td>\n",
       "      <td>29.82</td>\n",
       "      <td>29.99</td>\n",
       "      <td>27.55</td>\n",
       "      <td>54.91K</td>\n",
       "      <td>-7.23%</td>\n",
       "      <td>84</td>\n",
       "      <td>Jul</td>\n",
       "    </tr>\n",
       "    <tr>\n",
       "      <th>3</th>\n",
       "      <td>Aug-84</td>\n",
       "      <td>29.23</td>\n",
       "      <td>27.76</td>\n",
       "      <td>30.00</td>\n",
       "      <td>27.73</td>\n",
       "      <td>65.85K</td>\n",
       "      <td>5.91%</td>\n",
       "      <td>84</td>\n",
       "      <td>Aug</td>\n",
       "    </tr>\n",
       "    <tr>\n",
       "      <th>4</th>\n",
       "      <td>Sep-84</td>\n",
       "      <td>29.66</td>\n",
       "      <td>29.06</td>\n",
       "      <td>29.85</td>\n",
       "      <td>28.84</td>\n",
       "      <td>35.82K</td>\n",
       "      <td>1.47%</td>\n",
       "      <td>84</td>\n",
       "      <td>Sep</td>\n",
       "    </tr>\n",
       "  </tbody>\n",
       "</table>\n",
       "</div>"
      ],
      "text/plain": [
       "     Date  Price   Open   High    Low  Volume    Chg% Year Month\n",
       "0  May-84  30.83  30.30  31.50  30.10  40.25K   1.88%   84   May\n",
       "1  Jun-84  29.75  30.86  30.88  29.04  39.40K  -3.50%   84   Jun\n",
       "2  Jul-84  27.60  29.82  29.99  27.55  54.91K  -7.23%   84   Jul\n",
       "3  Aug-84  29.23  27.76  30.00  27.73  65.85K   5.91%   84   Aug\n",
       "4  Sep-84  29.66  29.06  29.85  28.84  35.82K   1.47%   84   Sep"
      ]
     },
     "execution_count": 19,
     "metadata": {},
     "output_type": "execute_result"
    }
   ],
   "source": [
    "Oil_Price.head()"
   ]
  },
  {
   "cell_type": "code",
   "execution_count": null,
   "id": "1ef2c438",
   "metadata": {
    "id": "1ef2c438",
    "outputId": "06e5d7c1-af53-40cd-fb21-741c75b5b121"
   },
   "outputs": [
    {
     "data": {
      "text/plain": [
       "<function matplotlib.pyplot.show(close=None, block=None)>"
      ]
     },
     "execution_count": 20,
     "metadata": {},
     "output_type": "execute_result"
    },
    {
     "data": {
      "image/png": "[encoded data removed]",
      "text/plain": [
       "<Figure size 864x576 with 1 Axes>"
      ]
     },
     "metadata": {},
     "output_type": "display_data"
    }
   ],
   "source": [
    "fig = plt.subplots(figsize = (12,8))\n",
    "sns.scatterplot(data=Oil_Price,x='Year',y='Price',hue = 'Price')\n",
    "plt.title(\" Oil Price History\")\n",
    "plt.xlabel('Year')\n",
    "plt.ylabel('Price')\n",
    "plt.grid(\"darkgrid\")\n",
    "plt.legend(loc='upper left')\n",
    "plt.show"
   ]
  },
  {
   "cell_type": "code",
   "execution_count": null,
   "id": "5f68d4aa",
   "metadata": {
    "id": "5f68d4aa",
    "outputId": "da1e6879-905c-41df-900b-9804d2f06aa3"
   },
   "outputs": [
    {
     "data": {
      "text/plain": [
       "<AxesSubplot:>"
      ]
     },
     "execution_count": 21,
     "metadata": {},
     "output_type": "execute_result"
    },
    {
     "data": {
      "image/png": "[encoded data removed]",
      "text/plain": [
       "<Figure size 720x432 with 2 Axes>"
      ]
     },
     "metadata": {},
     "output_type": "display_data"
    }
   ],
   "source": [
    "sns.heatmap(Oil_Price.corr(),annot = True,linewidth = 0.9,cmap='RdBu')"
   ]
  },
  {
   "cell_type": "code",
   "execution_count": null,
   "id": "9d604905",
   "metadata": {
    "id": "9d604905",
    "outputId": "e3a20943-15cb-4f75-d06b-edf9d2199936"
   },
   "outputs": [
    {
     "data": {
      "image/png": "[encoded data removed]",
      "text/plain": [
       "<Figure size 864x576 with 1 Axes>"
      ]
     },
     "metadata": {},
     "output_type": "display_data"
    }
   ],
   "source": [
    "# Box plot of price by year\n",
    "plt.figure(figsize=(12, 8))\n",
    "sns.boxplot(data = Oil_Price, x='Year', y='Price')\n",
    "plt.xlabel('Year')\n",
    "plt.ylabel('Crude Oil Price')\n",
    "plt.title('Crude Oil Price Distribution by Year')\n",
    "plt.show()"
   ]
  },
  {
   "cell_type": "code",
   "execution_count": null,
   "id": "d7e3a035",
   "metadata": {
    "id": "d7e3a035",
    "outputId": "2e1a0f01-0c89-45b4-d080-6dbd50ec7bd9"
   },
   "outputs": [
    {
     "data": {
      "image/png": "[encoded data removed]",
      "text/plain": [
       "<Figure size 864x576 with 1 Axes>"
      ]
     },
     "metadata": {},
     "output_type": "display_data"
    }
   ],
   "source": [
    "Oil_Price_ax = Oil_Price.plot(x='Year',y='Price',figsize=(12,8),color='g',grid= True)\n",
    "Oil_Price_ax.set_title('Oil Price history')\n",
    "Oil_Price_ax.set_xlabel('Year')\n",
    "Oil_Price_ax.set_ylabel('Price')\n",
    "Oil_Price_ax.legend(loc='upper left')\n",
    "plt.show()"
   ]
  },
  {
   "cell_type": "code",
   "execution_count": 3,
   "id": "d0e2e79b",
   "metadata": {
    "colab": {
     "base_uri": "https://localhost:8080/",
     "height": 165
    },
    "executionInfo": {
     "elapsed": 11,
     "status": "error",
     "timestamp": 1686658542654,
     "user": {
      "displayName": "Venkat Pulavarthi",
      "userId": "15035141426138979437"
     },
     "user_tz": -330
    },
    "id": "d0e2e79b",
    "outputId": "3634cdfe-a69c-4360-ba5b-395df6ff8dc5"
   },
   "outputs": [
    {
     "ename": "NameError",
     "evalue": "ignored",
     "output_type": "error",
     "traceback": [
      "\u001b[0;31m---------------------------------------------------------------------------\u001b[0m",
      "\u001b[0;31mNameError\u001b[0m                                 Traceback (most recent call last)",
      "\u001b[0;32m<ipython-input-3-c3ceed9fa302>\u001b[0m in \u001b[0;36m<cell line: 1>\u001b[0;34m()\u001b[0m\n\u001b[0;32m----> 1\u001b[0;31m \u001b[0msns\u001b[0m\u001b[0;34m.\u001b[0m\u001b[0mpairplot\u001b[0m\u001b[0;34m(\u001b[0m\u001b[0mOil_Price\u001b[0m\u001b[0;34m)\u001b[0m\u001b[0;34m\u001b[0m\u001b[0;34m\u001b[0m\u001b[0m\n\u001b[0m",
      "\u001b[0;31mNameError\u001b[0m: name 'sns' is not defined"
     ]
    }
   ],
   "source": [
    "sns.pairplot(Oil_Price)"
   ]
  },
  {
   "cell_type": "markdown",
   "id": "f1c7baf8",
   "metadata": {
    "id": "f1c7baf8"
   },
   "source": [
    "# Data Standardization"
   ]
  },
  {
   "cell_type": "code",
   "execution_count": null,
   "id": "c7269a52",
   "metadata": {
    "id": "c7269a52",
    "outputId": "15bcbb07-a91a-4db4-a7cc-c7e5ba197f52"
   },
   "outputs": [
    {
     "name": "stdout",
     "output_type": "stream",
     "text": [
      "       Date     Price      Open      High       Low\n",
      "0    May-84 -0.510648 -0.525287 -0.564128 -0.437451\n",
      "1    Jun-84 -0.547611 -0.506134 -0.584097 -0.476145\n",
      "2    Jul-84 -0.621195 -0.541705 -0.612761 -0.530536\n",
      "3    Aug-84 -0.565408 -0.612164 -0.612439 -0.523966\n",
      "4    Sep-84 -0.550691 -0.567699 -0.617270 -0.483446\n",
      "..      ...       ...       ...       ...       ...\n",
      "464  Jan-23  1.175978  1.194112  1.083583  1.109229\n",
      "465  Feb-23  1.071249  1.144517  1.017558  1.101198\n",
      "466  Mar-23  1.024018  1.066876  1.028187  0.804419\n",
      "467  Apr-23  1.062008  1.183851  1.111603  1.162525\n",
      "468  May-23  0.831329  1.042249  0.878102  0.789088\n",
      "\n",
      "[469 rows x 5 columns]\n"
     ]
    }
   ],
   "source": [
    "from sklearn.preprocessing import StandardScaler\n",
    "# Extract the numerical columns\n",
    "numerical_cols = ['Price', 'Open', 'High', 'Low']\n",
    "\n",
    "# Create a StandardScaler instance\n",
    "scaler = StandardScaler()\n",
    "\n",
    "# Fit and transform the numerical columns\n",
    "Oil_Price[numerical_cols] = scaler.fit_transform(Oil_Price[numerical_cols])\n",
    "\n",
    "Oil_Price1 = Oil_Price.drop(['Chg%','Volume','Month','Year'],axis = 1)\n",
    "\n",
    "# Print the standardized dataset\n",
    "print(Oil_Price1)\n"
   ]
  },
  {
   "cell_type": "markdown",
   "id": "deebf0a5",
   "metadata": {
    "id": "deebf0a5"
   },
   "source": [
    "# Stationarity Checking"
   ]
  },
  {
   "cell_type": "code",
   "execution_count": null,
   "id": "7e5e9e2f",
   "metadata": {
    "id": "7e5e9e2f"
   },
   "outputs": [],
   "source": [
    "import pandas as pd\n",
    "from statsmodels.tsa.stattools import adfuller\n",
    "\n",
    "# Extract the 'Price' column\n",
    "price_series = Oil_Price['Price']"
   ]
  },
  {
   "cell_type": "code",
   "execution_count": null,
   "id": "28e0b989",
   "metadata": {
    "id": "28e0b989",
    "outputId": "101dc014-0c93-47df-8637-9c8f27bd3f4a"
   },
   "outputs": [
    {
     "data": {
      "text/plain": [
       "(-2.290121018409085,\n",
       " 0.17517393813671528,\n",
       " 1,\n",
       " 467,\n",
       " {'1%': -3.4444305322234365,\n",
       "  '5%': -2.8677488864580885,\n",
       "  '10%': -2.5700770984781443},\n",
       " -303.7449485784539)"
      ]
     },
     "execution_count": 27,
     "metadata": {},
     "output_type": "execute_result"
    }
   ],
   "source": [
    "# Perform the Augmented Dickey-Fuller test\n",
    "result = adfuller(price_series)\n",
    "result"
   ]
  },
  {
   "cell_type": "code",
   "execution_count": null,
   "id": "ce9fd36c",
   "metadata": {
    "id": "ce9fd36c"
   },
   "outputs": [],
   "source": [
    "# Extract the test statistic and p-value\n",
    "adf_statistic = result[0]\n",
    "p_value = result[1]\n",
    "# Define a significance level\n",
    "significance_level = 0.05"
   ]
  },
  {
   "cell_type": "code",
   "execution_count": null,
   "id": "03880466",
   "metadata": {
    "id": "03880466",
    "outputId": "981d5fa7-08fa-4a51-cbb5-128cdf02adf0"
   },
   "outputs": [
    {
     "name": "stdout",
     "output_type": "stream",
     "text": [
      "The time series is non-stationary.\n"
     ]
    }
   ],
   "source": [
    "# Compare the p-value with the significance level\n",
    "if p_value < significance_level:\n",
    "    print(\"The time series is stationary.\")\n",
    "else:\n",
    "    print(\"The time series is non-stationary.\")"
   ]
  },
  {
   "cell_type": "code",
   "execution_count": null,
   "id": "3aa0dd4c",
   "metadata": {
    "id": "3aa0dd4c",
    "outputId": "38c623ce-f2d8-4152-c127-0550257a8889"
   },
   "outputs": [
    {
     "name": "stdout",
     "output_type": "stream",
     "text": [
      "After differencing, the time series is stationary.\n"
     ]
    }
   ],
   "source": [
    "# Perform differencing to make the time series stationary\n",
    "differenced_series = price_series.diff().dropna()\n",
    "# Perform the ADF test on the differenced series\n",
    "differenced_result = adfuller(differenced_series)\n",
    "# Extract the test statistic and p-value for the differenced series\n",
    "differenced_adf_statistic = differenced_result[0]\n",
    "differenced_p_value = differenced_result[1]\n",
    "# Compare the p-value of the differenced series with the significance level\n",
    "if differenced_p_value < significance_level:\n",
    "    print(\"After differencing, the time series is stationary.\")\n",
    "else:\n",
    "    print(\"Differencing did not make the time series stationary.\")"
   ]
  },
  {
   "cell_type": "markdown",
   "id": "9e2d7b8f",
   "metadata": {
    "id": "9e2d7b8f"
   },
   "source": [
    "# Data Driven Forecasting Methods"
   ]
  },
  {
   "cell_type": "code",
   "execution_count": null,
   "id": "d41a9e24",
   "metadata": {
    "id": "d41a9e24"
   },
   "outputs": [],
   "source": [
    "# Splitting Data\n",
    "Train = Oil_Price.head(295)\n",
    "Test = Oil_Price.tail(74)"
   ]
  },
  {
   "cell_type": "markdown",
   "id": "0229bc73",
   "metadata": {
    "id": "0229bc73"
   },
   "source": [
    "# Moving Average Method"
   ]
  },
  {
   "cell_type": "code",
   "execution_count": null,
   "id": "0241229a",
   "metadata": {
    "id": "0241229a",
    "outputId": "3a3f6a37-bf94-45c4-9243-2382273b6354"
   },
   "outputs": [
    {
     "data": {
      "text/plain": [
       "0           NaN\n",
       "1           NaN\n",
       "2           NaN\n",
       "3           NaN\n",
       "4           NaN\n",
       "         ...   \n",
       "464    0.984830\n",
       "465    1.024120\n",
       "466    1.064563\n",
       "467    1.111327\n",
       "468    1.139506\n",
       "Name: Price, Length: 469, dtype: float64"
      ]
     },
     "execution_count": 32,
     "metadata": {},
     "output_type": "execute_result"
    }
   ],
   "source": [
    "# Extract the 'Price' column\n",
    "price_series = Oil_Price['Price']\n",
    "\n",
    "# Set the window size for the moving average\n",
    "window_size = 30\n",
    "\n",
    "# Calculate the moving average\n",
    "moving_average = price_series.rolling(window=window_size).mean()\n",
    "moving_average"
   ]
  },
  {
   "cell_type": "code",
   "execution_count": null,
   "id": "9a2ed517",
   "metadata": {
    "id": "9a2ed517",
    "outputId": "68c415c3-68fc-4eb0-e9f0-f63cbd8bd445"
   },
   "outputs": [
    {
     "data": {
      "image/png": "[encoded data removed]",
      "text/plain": [
       "<Figure size 720x432 with 1 Axes>"
      ]
     },
     "metadata": {},
     "output_type": "display_data"
    }
   ],
   "source": [
    "# Plot the original series and the moving average\n",
    "plt.figure(figsize=(10, 6))\n",
    "plt.plot(price_series, label='Original Series')\n",
    "plt.plot(moving_average, label=f'Moving Average ({window_size} days)')\n",
    "plt.xlabel('Time')\n",
    "plt.ylabel('Crude Oil Price')\n",
    "plt.title('Crude Oil Price with Moving Average')\n",
    "plt.legend()\n",
    "plt.show()"
   ]
  },
  {
   "cell_type": "code",
   "execution_count": null,
   "id": "a552c54f",
   "metadata": {
    "id": "a552c54f"
   },
   "outputs": [],
   "source": [
    "# Time series decomposition plot"
   ]
  },
  {
   "cell_type": "code",
   "execution_count": null,
   "id": "52463d17",
   "metadata": {
    "id": "52463d17",
    "outputId": "d29be9e6-0416-44e7-8811-37e2bb01ff8f"
   },
   "outputs": [
    {
     "data": {
      "image/png": "[encoded data removed]",
      "text/plain": [
       "<Figure size 720x576 with 4 Axes>"
      ]
     },
     "metadata": {},
     "output_type": "display_data"
    }
   ],
   "source": [
    "from statsmodels.tsa.seasonal import seasonal_decompose\n",
    "sns.set(rc={'figure.figsize':(10,8)}, style = 'darkgrid')\n",
    "decompose_ts_add = seasonal_decompose(Oil_Price.Price,period=12)\n",
    "decompose_ts_add.plot()\n",
    "plt.show()"
   ]
  },
  {
   "cell_type": "markdown",
   "id": "e710f401",
   "metadata": {
    "id": "e710f401"
   },
   "source": [
    "# Check average monthly and yearly Oil price"
   ]
  },
  {
   "cell_type": "code",
   "execution_count": null,
   "id": "df59d23c",
   "metadata": {
    "id": "df59d23c",
    "outputId": "b739ce55-4eb9-430f-8b8a-3057a13da471"
   },
   "outputs": [
    {
     "data": {
      "text/html": [
       "<div>\n",
       "<style scoped>\n",
       "    .dataframe tbody tr th:only-of-type {\n",
       "        vertical-align: middle;\n",
       "    }\n",
       "\n",
       "    .dataframe tbody tr th {\n",
       "        vertical-align: top;\n",
       "    }\n",
       "\n",
       "    .dataframe thead th {\n",
       "        text-align: right;\n",
       "    }\n",
       "</style>\n",
       "<table border=\"1\" class=\"dataframe\">\n",
       "  <thead>\n",
       "    <tr style=\"text-align: right;\">\n",
       "      <th>Year</th>\n",
       "      <th>00</th>\n",
       "      <th>01</th>\n",
       "      <th>02</th>\n",
       "      <th>03</th>\n",
       "      <th>04</th>\n",
       "      <th>05</th>\n",
       "      <th>06</th>\n",
       "      <th>07</th>\n",
       "      <th>08</th>\n",
       "      <th>09</th>\n",
       "      <th>...</th>\n",
       "      <th>91</th>\n",
       "      <th>92</th>\n",
       "      <th>93</th>\n",
       "      <th>94</th>\n",
       "      <th>95</th>\n",
       "      <th>96</th>\n",
       "      <th>97</th>\n",
       "      <th>98</th>\n",
       "      <th>99</th>\n",
       "      <th>All</th>\n",
       "    </tr>\n",
       "    <tr>\n",
       "      <th>Month</th>\n",
       "      <th></th>\n",
       "      <th></th>\n",
       "      <th></th>\n",
       "      <th></th>\n",
       "      <th></th>\n",
       "      <th></th>\n",
       "      <th></th>\n",
       "      <th></th>\n",
       "      <th></th>\n",
       "      <th></th>\n",
       "      <th></th>\n",
       "      <th></th>\n",
       "      <th></th>\n",
       "      <th></th>\n",
       "      <th></th>\n",
       "      <th></th>\n",
       "      <th></th>\n",
       "      <th></th>\n",
       "      <th></th>\n",
       "      <th></th>\n",
       "      <th></th>\n",
       "    </tr>\n",
       "  </thead>\n",
       "  <tbody>\n",
       "    <tr>\n",
       "      <th>Apr</th>\n",
       "      <td>-0.684855</td>\n",
       "      <td>-0.591762</td>\n",
       "      <td>-0.631805</td>\n",
       "      <td>-0.682801</td>\n",
       "      <td>-0.286471</td>\n",
       "      <td>0.135870</td>\n",
       "      <td>0.894304</td>\n",
       "      <td>0.683133</td>\n",
       "      <td>2.317394</td>\n",
       "      <td>0.183785</td>\n",
       "      <td>...</td>\n",
       "      <td>-0.848452</td>\n",
       "      <td>-0.852217</td>\n",
       "      <td>-0.863169</td>\n",
       "      <td>-0.987407</td>\n",
       "      <td>-0.868303</td>\n",
       "      <td>-0.840238</td>\n",
       "      <td>-0.874121</td>\n",
       "      <td>-1.039087</td>\n",
       "      <td>-0.927170</td>\n",
       "      <td>4.689241e-02</td>\n",
       "    </tr>\n",
       "    <tr>\n",
       "      <th>Aug</th>\n",
       "      <td>-0.432271</td>\n",
       "      <td>-0.634886</td>\n",
       "      <td>-0.573964</td>\n",
       "      <td>-0.485321</td>\n",
       "      <td>-0.124243</td>\n",
       "      <td>0.793681</td>\n",
       "      <td>0.838859</td>\n",
       "      <td>0.968230</td>\n",
       "      <td>2.385845</td>\n",
       "      <td>0.828591</td>\n",
       "      <td>...</td>\n",
       "      <td>-0.803959</td>\n",
       "      <td>-0.830655</td>\n",
       "      <td>-0.939834</td>\n",
       "      <td>-0.964818</td>\n",
       "      <td>-0.955235</td>\n",
       "      <td>-0.804301</td>\n",
       "      <td>-0.894656</td>\n",
       "      <td>-1.109249</td>\n",
       "      <td>-0.809093</td>\n",
       "      <td>2.975341e-02</td>\n",
       "    </tr>\n",
       "    <tr>\n",
       "      <th>Dec</th>\n",
       "      <td>-0.648576</td>\n",
       "      <td>-0.886784</td>\n",
       "      <td>-0.497984</td>\n",
       "      <td>-0.452807</td>\n",
       "      <td>-0.078723</td>\n",
       "      <td>0.523301</td>\n",
       "      <td>0.523643</td>\n",
       "      <td>1.719135</td>\n",
       "      <td>-0.039364</td>\n",
       "      <td>1.150309</td>\n",
       "      <td>...</td>\n",
       "      <td>-0.911427</td>\n",
       "      <td>-0.898421</td>\n",
       "      <td>-1.080842</td>\n",
       "      <td>-0.957973</td>\n",
       "      <td>-0.896710</td>\n",
       "      <td>-0.678694</td>\n",
       "      <td>-0.962080</td>\n",
       "      <td>-1.153400</td>\n",
       "      <td>-0.689646</td>\n",
       "      <td>-5.852170e-02</td>\n",
       "    </tr>\n",
       "    <tr>\n",
       "      <th>Feb</th>\n",
       "      <td>-0.524338</td>\n",
       "      <td>-0.628383</td>\n",
       "      <td>-0.821756</td>\n",
       "      <td>-0.313167</td>\n",
       "      <td>-0.328226</td>\n",
       "      <td>0.205347</td>\n",
       "      <td>0.535964</td>\n",
       "      <td>0.548970</td>\n",
       "      <td>1.919695</td>\n",
       "      <td>-0.033888</td>\n",
       "      <td>...</td>\n",
       "      <td>-0.910057</td>\n",
       "      <td>-0.926486</td>\n",
       "      <td>-0.860773</td>\n",
       "      <td>-1.070232</td>\n",
       "      <td>-0.932988</td>\n",
       "      <td>-0.897052</td>\n",
       "      <td>-0.871041</td>\n",
       "      <td>-1.037376</td>\n",
       "      <td>-1.145870</td>\n",
       "      <td>-2.227792e-02</td>\n",
       "    </tr>\n",
       "    <tr>\n",
       "      <th>Jan</th>\n",
       "      <td>-0.619826</td>\n",
       "      <td>-0.584917</td>\n",
       "      <td>-0.899105</td>\n",
       "      <td>-0.418924</td>\n",
       "      <td>-0.434667</td>\n",
       "      <td>0.083847</td>\n",
       "      <td>0.758771</td>\n",
       "      <td>0.424047</td>\n",
       "      <td>1.574362</td>\n",
       "      <td>-0.139302</td>\n",
       "      <td>...</td>\n",
       "      <td>-0.828601</td>\n",
       "      <td>-0.918956</td>\n",
       "      <td>-0.872410</td>\n",
       "      <td>-1.045932</td>\n",
       "      <td>-0.936411</td>\n",
       "      <td>-0.958658</td>\n",
       "      <td>-0.739273</td>\n",
       "      <td>-0.976797</td>\n",
       "      <td>-1.129442</td>\n",
       "      <td>-5.590653e-02</td>\n",
       "    </tr>\n",
       "    <tr>\n",
       "      <th>Jul</th>\n",
       "      <td>-0.627014</td>\n",
       "      <td>-0.663977</td>\n",
       "      <td>-0.641046</td>\n",
       "      <td>-0.520573</td>\n",
       "      <td>-0.066745</td>\n",
       "      <td>0.507215</td>\n",
       "      <td>0.980552</td>\n",
       "      <td>1.110950</td>\n",
       "      <td>2.680868</td>\n",
       "      <td>0.811136</td>\n",
       "      <td>...</td>\n",
       "      <td>-0.823810</td>\n",
       "      <td>-0.817307</td>\n",
       "      <td>-0.953866</td>\n",
       "      <td>-0.871041</td>\n",
       "      <td>-0.964818</td>\n",
       "      <td>-0.866934</td>\n",
       "      <td>-0.876517</td>\n",
       "      <td>-1.079473</td>\n",
       "      <td>-0.863169</td>\n",
       "      <td>3.485211e-02</td>\n",
       "    </tr>\n",
       "    <tr>\n",
       "      <th>Jun</th>\n",
       "      <td>-0.453491</td>\n",
       "      <td>-0.667400</td>\n",
       "      <td>-0.646522</td>\n",
       "      <td>-0.532552</td>\n",
       "      <td>-0.297766</td>\n",
       "      <td>0.367918</td>\n",
       "      <td>0.964466</td>\n",
       "      <td>0.853233</td>\n",
       "      <td>3.225735</td>\n",
       "      <td>0.826195</td>\n",
       "      <td>...</td>\n",
       "      <td>-0.862142</td>\n",
       "      <td>-0.826548</td>\n",
       "      <td>-0.920667</td>\n",
       "      <td>-0.902870</td>\n",
       "      <td>-0.970294</td>\n",
       "      <td>-0.849821</td>\n",
       "      <td>-0.888153</td>\n",
       "      <td>-1.080500</td>\n",
       "      <td>-0.905608</td>\n",
       "      <td>4.971820e-02</td>\n",
       "    </tr>\n",
       "    <tr>\n",
       "      <th>Mar</th>\n",
       "      <td>-0.645153</td>\n",
       "      <td>-0.666031</td>\n",
       "      <td>-0.665346</td>\n",
       "      <td>-0.503460</td>\n",
       "      <td>-0.341916</td>\n",
       "      <td>0.330270</td>\n",
       "      <td>0.714620</td>\n",
       "      <td>0.688609</td>\n",
       "      <td>1.910797</td>\n",
       "      <td>0.133816</td>\n",
       "      <td>...</td>\n",
       "      <td>-0.893972</td>\n",
       "      <td>-0.900474</td>\n",
       "      <td>-0.866249</td>\n",
       "      <td>-1.059622</td>\n",
       "      <td>-0.909715</td>\n",
       "      <td>-0.830997</td>\n",
       "      <td>-0.867276</td>\n",
       "      <td>-1.031558</td>\n",
       "      <td>-0.992198</td>\n",
       "      <td>-5.691784e-03</td>\n",
       "    </tr>\n",
       "    <tr>\n",
       "      <th>May</th>\n",
       "      <td>-0.572938</td>\n",
       "      <td>-0.594842</td>\n",
       "      <td>-0.699572</td>\n",
       "      <td>-0.554114</td>\n",
       "      <td>-0.200908</td>\n",
       "      <td>0.212877</td>\n",
       "      <td>0.874111</td>\n",
       "      <td>0.624950</td>\n",
       "      <td>2.792784</td>\n",
       "      <td>0.703668</td>\n",
       "      <td>...</td>\n",
       "      <td>-0.842634</td>\n",
       "      <td>-0.809093</td>\n",
       "      <td>-0.880624</td>\n",
       "      <td>-0.939149</td>\n",
       "      <td>-0.919298</td>\n",
       "      <td>-0.889522</td>\n",
       "      <td>-0.851190</td>\n",
       "      <td>-1.045590</td>\n",
       "      <td>-0.989460</td>\n",
       "      <td>3.937117e-02</td>\n",
       "    </tr>\n",
       "    <tr>\n",
       "      <th>Nov</th>\n",
       "      <td>-0.408314</td>\n",
       "      <td>-0.900474</td>\n",
       "      <td>-0.645495</td>\n",
       "      <td>-0.525022</td>\n",
       "      <td>0.115677</td>\n",
       "      <td>0.395982</td>\n",
       "      <td>0.594832</td>\n",
       "      <td>1.470316</td>\n",
       "      <td>0.297071</td>\n",
       "      <td>1.079121</td>\n",
       "      <td>...</td>\n",
       "      <td>-0.830655</td>\n",
       "      <td>-0.885073</td>\n",
       "      <td>-1.037718</td>\n",
       "      <td>-0.948048</td>\n",
       "      <td>-0.943598</td>\n",
       "      <td>-0.752963</td>\n",
       "      <td>-0.910400</td>\n",
       "      <td>-1.181807</td>\n",
       "      <td>-0.724214</td>\n",
       "      <td>-6.880686e-02</td>\n",
       "    </tr>\n",
       "    <tr>\n",
       "      <th>Oct</th>\n",
       "      <td>-0.446646</td>\n",
       "      <td>-0.840922</td>\n",
       "      <td>-0.634201</td>\n",
       "      <td>-0.569515</td>\n",
       "      <td>0.205689</td>\n",
       "      <td>0.479492</td>\n",
       "      <td>0.444240</td>\n",
       "      <td>1.669508</td>\n",
       "      <td>0.755006</td>\n",
       "      <td>1.069537</td>\n",
       "      <td>...</td>\n",
       "      <td>-0.765969</td>\n",
       "      <td>-0.860088</td>\n",
       "      <td>-0.986722</td>\n",
       "      <td>-0.943256</td>\n",
       "      <td>-0.962080</td>\n",
       "      <td>-0.766653</td>\n",
       "      <td>-0.844345</td>\n",
       "      <td>-1.072286</td>\n",
       "      <td>-0.821414</td>\n",
       "      <td>-1.167683e-02</td>\n",
       "    </tr>\n",
       "    <tr>\n",
       "      <th>Sep</th>\n",
       "      <td>-0.510305</td>\n",
       "      <td>-0.763915</td>\n",
       "      <td>-0.523653</td>\n",
       "      <td>-0.566435</td>\n",
       "      <td>0.133132</td>\n",
       "      <td>0.701273</td>\n",
       "      <td>0.587302</td>\n",
       "      <td>1.229028</td>\n",
       "      <td>1.878625</td>\n",
       "      <td>0.850837</td>\n",
       "      <td>...</td>\n",
       "      <td>-0.804986</td>\n",
       "      <td>-0.822783</td>\n",
       "      <td>-0.922721</td>\n",
       "      <td>-0.936411</td>\n",
       "      <td>-0.965503</td>\n",
       "      <td>-0.731401</td>\n",
       "      <td>-0.840922</td>\n",
       "      <td>-1.013418</td>\n",
       "      <td>-0.726952</td>\n",
       "      <td>2.128482e-02</td>\n",
       "    </tr>\n",
       "    <tr>\n",
       "      <th>All</th>\n",
       "      <td>-0.547811</td>\n",
       "      <td>-0.702024</td>\n",
       "      <td>-0.656704</td>\n",
       "      <td>-0.510391</td>\n",
       "      <td>-0.142097</td>\n",
       "      <td>0.394756</td>\n",
       "      <td>0.725972</td>\n",
       "      <td>0.999176</td>\n",
       "      <td>1.808235</td>\n",
       "      <td>0.621984</td>\n",
       "      <td>...</td>\n",
       "      <td>-0.843888</td>\n",
       "      <td>-0.862342</td>\n",
       "      <td>-0.932133</td>\n",
       "      <td>-0.968897</td>\n",
       "      <td>-0.935413</td>\n",
       "      <td>-0.822269</td>\n",
       "      <td>-0.868331</td>\n",
       "      <td>-1.068378</td>\n",
       "      <td>-0.893686</td>\n",
       "      <td>1.725698e-16</td>\n",
       "    </tr>\n",
       "  </tbody>\n",
       "</table>\n",
       "<p>13 rows × 41 columns</p>\n",
       "</div>"
      ],
      "text/plain": [
       "Year         00        01        02        03        04        05        06  \\\n",
       "Month                                                                         \n",
       "Apr   -0.684855 -0.591762 -0.631805 -0.682801 -0.286471  0.135870  0.894304   \n",
       "Aug   -0.432271 -0.634886 -0.573964 -0.485321 -0.124243  0.793681  0.838859   \n",
       "Dec   -0.648576 -0.886784 -0.497984 -0.452807 -0.078723  0.523301  0.523643   \n",
       "Feb   -0.524338 -0.628383 -0.821756 -0.313167 -0.328226  0.205347  0.535964   \n",
       "Jan   -0.619826 -0.584917 -0.899105 -0.418924 -0.434667  0.083847  0.758771   \n",
       "Jul   -0.627014 -0.663977 -0.641046 -0.520573 -0.066745  0.507215  0.980552   \n",
       "Jun   -0.453491 -0.667400 -0.646522 -0.532552 -0.297766  0.367918  0.964466   \n",
       "Mar   -0.645153 -0.666031 -0.665346 -0.503460 -0.341916  0.330270  0.714620   \n",
       "May   -0.572938 -0.594842 -0.699572 -0.554114 -0.200908  0.212877  0.874111   \n",
       "Nov   -0.408314 -0.900474 -0.645495 -0.525022  0.115677  0.395982  0.594832   \n",
       "Oct   -0.446646 -0.840922 -0.634201 -0.569515  0.205689  0.479492  0.444240   \n",
       "Sep   -0.510305 -0.763915 -0.523653 -0.566435  0.133132  0.701273  0.587302   \n",
       "All   -0.547811 -0.702024 -0.656704 -0.510391 -0.142097  0.394756  0.725972   \n",
       "\n",
       "Year         07        08        09  ...        91        92        93  \\\n",
       "Month                                ...                                 \n",
       "Apr    0.683133  2.317394  0.183785  ... -0.848452 -0.852217 -0.863169   \n",
       "Aug    0.968230  2.385845  0.828591  ... -0.803959 -0.830655 -0.939834   \n",
       "Dec    1.719135 -0.039364  1.150309  ... -0.911427 -0.898421 -1.080842   \n",
       "Feb    0.548970  1.919695 -0.033888  ... -0.910057 -0.926486 -0.860773   \n",
       "Jan    0.424047  1.574362 -0.139302  ... -0.828601 -0.918956 -0.872410   \n",
       "Jul    1.110950  2.680868  0.811136  ... -0.823810 -0.817307 -0.953866   \n",
       "Jun    0.853233  3.225735  0.826195  ... -0.862142 -0.826548 -0.920667   \n",
       "Mar    0.688609  1.910797  0.133816  ... -0.893972 -0.900474 -0.866249   \n",
       "May    0.624950  2.792784  0.703668  ... -0.842634 -0.809093 -0.880624   \n",
       "Nov    1.470316  0.297071  1.079121  ... -0.830655 -0.885073 -1.037718   \n",
       "Oct    1.669508  0.755006  1.069537  ... -0.765969 -0.860088 -0.986722   \n",
       "Sep    1.229028  1.878625  0.850837  ... -0.804986 -0.822783 -0.922721   \n",
       "All    0.999176  1.808235  0.621984  ... -0.843888 -0.862342 -0.932133   \n",
       "\n",
       "Year         94        95        96        97        98        99  \\\n",
       "Month                                                               \n",
       "Apr   -0.987407 -0.868303 -0.840238 -0.874121 -1.039087 -0.927170   \n",
       "Aug   -0.964818 -0.955235 -0.804301 -0.894656 -1.109249 -0.809093   \n",
       "Dec   -0.957973 -0.896710 -0.678694 -0.962080 -1.153400 -0.689646   \n",
       "Feb   -1.070232 -0.932988 -0.897052 -0.871041 -1.037376 -1.145870   \n",
       "Jan   -1.045932 -0.936411 -0.958658 -0.739273 -0.976797 -1.129442   \n",
       "Jul   -0.871041 -0.964818 -0.866934 -0.876517 -1.079473 -0.863169   \n",
       "Jun   -0.902870 -0.970294 -0.849821 -0.888153 -1.080500 -0.905608   \n",
       "Mar   -1.059622 -0.909715 -0.830997 -0.867276 -1.031558 -0.992198   \n",
       "May   -0.939149 -0.919298 -0.889522 -0.851190 -1.045590 -0.989460   \n",
       "Nov   -0.948048 -0.943598 -0.752963 -0.910400 -1.181807 -0.724214   \n",
       "Oct   -0.943256 -0.962080 -0.766653 -0.844345 -1.072286 -0.821414   \n",
       "Sep   -0.936411 -0.965503 -0.731401 -0.840922 -1.013418 -0.726952   \n",
       "All   -0.968897 -0.935413 -0.822269 -0.868331 -1.068378 -0.893686   \n",
       "\n",
       "Year            All  \n",
       "Month                \n",
       "Apr    4.689241e-02  \n",
       "Aug    2.975341e-02  \n",
       "Dec   -5.852170e-02  \n",
       "Feb   -2.227792e-02  \n",
       "Jan   -5.590653e-02  \n",
       "Jul    3.485211e-02  \n",
       "Jun    4.971820e-02  \n",
       "Mar   -5.691784e-03  \n",
       "May    3.937117e-02  \n",
       "Nov   -6.880686e-02  \n",
       "Oct   -1.167683e-02  \n",
       "Sep    2.128482e-02  \n",
       "All    1.725698e-16  \n",
       "\n",
       "[13 rows x 41 columns]"
      ]
     },
     "execution_count": 36,
     "metadata": {},
     "output_type": "execute_result"
    }
   ],
   "source": [
    "Oil_Price_month_yearly = pd.pivot_table(Oil_Price, values=\"Price\",\n",
    "                                   index=[\"Month\"],\n",
    "                                   columns=[\"Year\"],\n",
    "                                   fill_value=0,\n",
    "                                   margins=True)\n",
    "Oil_Price_month_yearly"
   ]
  },
  {
   "cell_type": "code",
   "execution_count": null,
   "id": "40313eb1",
   "metadata": {
    "id": "40313eb1",
    "outputId": "125ec6ea-58a2-4a23-d7fe-44156ea59639",
    "scrolled": true
   },
   "outputs": [
    {
     "data": {
      "text/html": [
       "<div>\n",
       "<style scoped>\n",
       "    .dataframe tbody tr th:only-of-type {\n",
       "        vertical-align: middle;\n",
       "    }\n",
       "\n",
       "    .dataframe tbody tr th {\n",
       "        vertical-align: top;\n",
       "    }\n",
       "\n",
       "    .dataframe thead th {\n",
       "        text-align: right;\n",
       "    }\n",
       "</style>\n",
       "<table border=\"1\" class=\"dataframe\">\n",
       "  <thead>\n",
       "    <tr style=\"text-align: right;\">\n",
       "      <th>Year</th>\n",
       "      <th>00</th>\n",
       "      <th>01</th>\n",
       "      <th>02</th>\n",
       "      <th>03</th>\n",
       "      <th>04</th>\n",
       "      <th>05</th>\n",
       "      <th>06</th>\n",
       "      <th>07</th>\n",
       "      <th>08</th>\n",
       "      <th>09</th>\n",
       "      <th>...</th>\n",
       "      <th>91</th>\n",
       "      <th>92</th>\n",
       "      <th>93</th>\n",
       "      <th>94</th>\n",
       "      <th>95</th>\n",
       "      <th>96</th>\n",
       "      <th>97</th>\n",
       "      <th>98</th>\n",
       "      <th>99</th>\n",
       "      <th>All</th>\n",
       "    </tr>\n",
       "  </thead>\n",
       "  <tbody>\n",
       "    <tr>\n",
       "      <th>Apr</th>\n",
       "      <td>-0.684855</td>\n",
       "      <td>-0.591762</td>\n",
       "      <td>-0.631805</td>\n",
       "      <td>-0.682801</td>\n",
       "      <td>-0.286471</td>\n",
       "      <td>0.135870</td>\n",
       "      <td>0.894304</td>\n",
       "      <td>0.683133</td>\n",
       "      <td>2.317394</td>\n",
       "      <td>0.183785</td>\n",
       "      <td>...</td>\n",
       "      <td>-0.848452</td>\n",
       "      <td>-0.852217</td>\n",
       "      <td>-0.863169</td>\n",
       "      <td>-0.987407</td>\n",
       "      <td>-0.868303</td>\n",
       "      <td>-0.840238</td>\n",
       "      <td>-0.874121</td>\n",
       "      <td>-1.039087</td>\n",
       "      <td>-0.927170</td>\n",
       "      <td>4.689241e-02</td>\n",
       "    </tr>\n",
       "    <tr>\n",
       "      <th>Aug</th>\n",
       "      <td>-0.432271</td>\n",
       "      <td>-0.634886</td>\n",
       "      <td>-0.573964</td>\n",
       "      <td>-0.485321</td>\n",
       "      <td>-0.124243</td>\n",
       "      <td>0.793681</td>\n",
       "      <td>0.838859</td>\n",
       "      <td>0.968230</td>\n",
       "      <td>2.385845</td>\n",
       "      <td>0.828591</td>\n",
       "      <td>...</td>\n",
       "      <td>-0.803959</td>\n",
       "      <td>-0.830655</td>\n",
       "      <td>-0.939834</td>\n",
       "      <td>-0.964818</td>\n",
       "      <td>-0.955235</td>\n",
       "      <td>-0.804301</td>\n",
       "      <td>-0.894656</td>\n",
       "      <td>-1.109249</td>\n",
       "      <td>-0.809093</td>\n",
       "      <td>2.975341e-02</td>\n",
       "    </tr>\n",
       "    <tr>\n",
       "      <th>Dec</th>\n",
       "      <td>-0.648576</td>\n",
       "      <td>-0.886784</td>\n",
       "      <td>-0.497984</td>\n",
       "      <td>-0.452807</td>\n",
       "      <td>-0.078723</td>\n",
       "      <td>0.523301</td>\n",
       "      <td>0.523643</td>\n",
       "      <td>1.719135</td>\n",
       "      <td>-0.039364</td>\n",
       "      <td>1.150309</td>\n",
       "      <td>...</td>\n",
       "      <td>-0.911427</td>\n",
       "      <td>-0.898421</td>\n",
       "      <td>-1.080842</td>\n",
       "      <td>-0.957973</td>\n",
       "      <td>-0.896710</td>\n",
       "      <td>-0.678694</td>\n",
       "      <td>-0.962080</td>\n",
       "      <td>-1.153400</td>\n",
       "      <td>-0.689646</td>\n",
       "      <td>-5.852170e-02</td>\n",
       "    </tr>\n",
       "    <tr>\n",
       "      <th>Feb</th>\n",
       "      <td>-0.524338</td>\n",
       "      <td>-0.628383</td>\n",
       "      <td>-0.821756</td>\n",
       "      <td>-0.313167</td>\n",
       "      <td>-0.328226</td>\n",
       "      <td>0.205347</td>\n",
       "      <td>0.535964</td>\n",
       "      <td>0.548970</td>\n",
       "      <td>1.919695</td>\n",
       "      <td>-0.033888</td>\n",
       "      <td>...</td>\n",
       "      <td>-0.910057</td>\n",
       "      <td>-0.926486</td>\n",
       "      <td>-0.860773</td>\n",
       "      <td>-1.070232</td>\n",
       "      <td>-0.932988</td>\n",
       "      <td>-0.897052</td>\n",
       "      <td>-0.871041</td>\n",
       "      <td>-1.037376</td>\n",
       "      <td>-1.145870</td>\n",
       "      <td>-2.227792e-02</td>\n",
       "    </tr>\n",
       "    <tr>\n",
       "      <th>Jan</th>\n",
       "      <td>-0.619826</td>\n",
       "      <td>-0.584917</td>\n",
       "      <td>-0.899105</td>\n",
       "      <td>-0.418924</td>\n",
       "      <td>-0.434667</td>\n",
       "      <td>0.083847</td>\n",
       "      <td>0.758771</td>\n",
       "      <td>0.424047</td>\n",
       "      <td>1.574362</td>\n",
       "      <td>-0.139302</td>\n",
       "      <td>...</td>\n",
       "      <td>-0.828601</td>\n",
       "      <td>-0.918956</td>\n",
       "      <td>-0.872410</td>\n",
       "      <td>-1.045932</td>\n",
       "      <td>-0.936411</td>\n",
       "      <td>-0.958658</td>\n",
       "      <td>-0.739273</td>\n",
       "      <td>-0.976797</td>\n",
       "      <td>-1.129442</td>\n",
       "      <td>-5.590653e-02</td>\n",
       "    </tr>\n",
       "    <tr>\n",
       "      <th>Jul</th>\n",
       "      <td>-0.627014</td>\n",
       "      <td>-0.663977</td>\n",
       "      <td>-0.641046</td>\n",
       "      <td>-0.520573</td>\n",
       "      <td>-0.066745</td>\n",
       "      <td>0.507215</td>\n",
       "      <td>0.980552</td>\n",
       "      <td>1.110950</td>\n",
       "      <td>2.680868</td>\n",
       "      <td>0.811136</td>\n",
       "      <td>...</td>\n",
       "      <td>-0.823810</td>\n",
       "      <td>-0.817307</td>\n",
       "      <td>-0.953866</td>\n",
       "      <td>-0.871041</td>\n",
       "      <td>-0.964818</td>\n",
       "      <td>-0.866934</td>\n",
       "      <td>-0.876517</td>\n",
       "      <td>-1.079473</td>\n",
       "      <td>-0.863169</td>\n",
       "      <td>3.485211e-02</td>\n",
       "    </tr>\n",
       "    <tr>\n",
       "      <th>Jun</th>\n",
       "      <td>-0.453491</td>\n",
       "      <td>-0.667400</td>\n",
       "      <td>-0.646522</td>\n",
       "      <td>-0.532552</td>\n",
       "      <td>-0.297766</td>\n",
       "      <td>0.367918</td>\n",
       "      <td>0.964466</td>\n",
       "      <td>0.853233</td>\n",
       "      <td>3.225735</td>\n",
       "      <td>0.826195</td>\n",
       "      <td>...</td>\n",
       "      <td>-0.862142</td>\n",
       "      <td>-0.826548</td>\n",
       "      <td>-0.920667</td>\n",
       "      <td>-0.902870</td>\n",
       "      <td>-0.970294</td>\n",
       "      <td>-0.849821</td>\n",
       "      <td>-0.888153</td>\n",
       "      <td>-1.080500</td>\n",
       "      <td>-0.905608</td>\n",
       "      <td>4.971820e-02</td>\n",
       "    </tr>\n",
       "    <tr>\n",
       "      <th>Mar</th>\n",
       "      <td>-0.645153</td>\n",
       "      <td>-0.666031</td>\n",
       "      <td>-0.665346</td>\n",
       "      <td>-0.503460</td>\n",
       "      <td>-0.341916</td>\n",
       "      <td>0.330270</td>\n",
       "      <td>0.714620</td>\n",
       "      <td>0.688609</td>\n",
       "      <td>1.910797</td>\n",
       "      <td>0.133816</td>\n",
       "      <td>...</td>\n",
       "      <td>-0.893972</td>\n",
       "      <td>-0.900474</td>\n",
       "      <td>-0.866249</td>\n",
       "      <td>-1.059622</td>\n",
       "      <td>-0.909715</td>\n",
       "      <td>-0.830997</td>\n",
       "      <td>-0.867276</td>\n",
       "      <td>-1.031558</td>\n",
       "      <td>-0.992198</td>\n",
       "      <td>-5.691784e-03</td>\n",
       "    </tr>\n",
       "    <tr>\n",
       "      <th>May</th>\n",
       "      <td>-0.572938</td>\n",
       "      <td>-0.594842</td>\n",
       "      <td>-0.699572</td>\n",
       "      <td>-0.554114</td>\n",
       "      <td>-0.200908</td>\n",
       "      <td>0.212877</td>\n",
       "      <td>0.874111</td>\n",
       "      <td>0.624950</td>\n",
       "      <td>2.792784</td>\n",
       "      <td>0.703668</td>\n",
       "      <td>...</td>\n",
       "      <td>-0.842634</td>\n",
       "      <td>-0.809093</td>\n",
       "      <td>-0.880624</td>\n",
       "      <td>-0.939149</td>\n",
       "      <td>-0.919298</td>\n",
       "      <td>-0.889522</td>\n",
       "      <td>-0.851190</td>\n",
       "      <td>-1.045590</td>\n",
       "      <td>-0.989460</td>\n",
       "      <td>3.937117e-02</td>\n",
       "    </tr>\n",
       "    <tr>\n",
       "      <th>Nov</th>\n",
       "      <td>-0.408314</td>\n",
       "      <td>-0.900474</td>\n",
       "      <td>-0.645495</td>\n",
       "      <td>-0.525022</td>\n",
       "      <td>0.115677</td>\n",
       "      <td>0.395982</td>\n",
       "      <td>0.594832</td>\n",
       "      <td>1.470316</td>\n",
       "      <td>0.297071</td>\n",
       "      <td>1.079121</td>\n",
       "      <td>...</td>\n",
       "      <td>-0.830655</td>\n",
       "      <td>-0.885073</td>\n",
       "      <td>-1.037718</td>\n",
       "      <td>-0.948048</td>\n",
       "      <td>-0.943598</td>\n",
       "      <td>-0.752963</td>\n",
       "      <td>-0.910400</td>\n",
       "      <td>-1.181807</td>\n",
       "      <td>-0.724214</td>\n",
       "      <td>-6.880686e-02</td>\n",
       "    </tr>\n",
       "    <tr>\n",
       "      <th>Oct</th>\n",
       "      <td>-0.446646</td>\n",
       "      <td>-0.840922</td>\n",
       "      <td>-0.634201</td>\n",
       "      <td>-0.569515</td>\n",
       "      <td>0.205689</td>\n",
       "      <td>0.479492</td>\n",
       "      <td>0.444240</td>\n",
       "      <td>1.669508</td>\n",
       "      <td>0.755006</td>\n",
       "      <td>1.069537</td>\n",
       "      <td>...</td>\n",
       "      <td>-0.765969</td>\n",
       "      <td>-0.860088</td>\n",
       "      <td>-0.986722</td>\n",
       "      <td>-0.943256</td>\n",
       "      <td>-0.962080</td>\n",
       "      <td>-0.766653</td>\n",
       "      <td>-0.844345</td>\n",
       "      <td>-1.072286</td>\n",
       "      <td>-0.821414</td>\n",
       "      <td>-1.167683e-02</td>\n",
       "    </tr>\n",
       "    <tr>\n",
       "      <th>Sep</th>\n",
       "      <td>-0.510305</td>\n",
       "      <td>-0.763915</td>\n",
       "      <td>-0.523653</td>\n",
       "      <td>-0.566435</td>\n",
       "      <td>0.133132</td>\n",
       "      <td>0.701273</td>\n",
       "      <td>0.587302</td>\n",
       "      <td>1.229028</td>\n",
       "      <td>1.878625</td>\n",
       "      <td>0.850837</td>\n",
       "      <td>...</td>\n",
       "      <td>-0.804986</td>\n",
       "      <td>-0.822783</td>\n",
       "      <td>-0.922721</td>\n",
       "      <td>-0.936411</td>\n",
       "      <td>-0.965503</td>\n",
       "      <td>-0.731401</td>\n",
       "      <td>-0.840922</td>\n",
       "      <td>-1.013418</td>\n",
       "      <td>-0.726952</td>\n",
       "      <td>2.128482e-02</td>\n",
       "    </tr>\n",
       "    <tr>\n",
       "      <th>All</th>\n",
       "      <td>-0.547811</td>\n",
       "      <td>-0.702024</td>\n",
       "      <td>-0.656704</td>\n",
       "      <td>-0.510391</td>\n",
       "      <td>-0.142097</td>\n",
       "      <td>0.394756</td>\n",
       "      <td>0.725972</td>\n",
       "      <td>0.999176</td>\n",
       "      <td>1.808235</td>\n",
       "      <td>0.621984</td>\n",
       "      <td>...</td>\n",
       "      <td>-0.843888</td>\n",
       "      <td>-0.862342</td>\n",
       "      <td>-0.932133</td>\n",
       "      <td>-0.968897</td>\n",
       "      <td>-0.935413</td>\n",
       "      <td>-0.822269</td>\n",
       "      <td>-0.868331</td>\n",
       "      <td>-1.068378</td>\n",
       "      <td>-0.893686</td>\n",
       "      <td>1.725698e-16</td>\n",
       "    </tr>\n",
       "  </tbody>\n",
       "</table>\n",
       "<p>13 rows × 41 columns</p>\n",
       "</div>"
      ],
      "text/plain": [
       "Year        00        01        02        03        04        05        06  \\\n",
       "Apr  -0.684855 -0.591762 -0.631805 -0.682801 -0.286471  0.135870  0.894304   \n",
       "Aug  -0.432271 -0.634886 -0.573964 -0.485321 -0.124243  0.793681  0.838859   \n",
       "Dec  -0.648576 -0.886784 -0.497984 -0.452807 -0.078723  0.523301  0.523643   \n",
       "Feb  -0.524338 -0.628383 -0.821756 -0.313167 -0.328226  0.205347  0.535964   \n",
       "Jan  -0.619826 -0.584917 -0.899105 -0.418924 -0.434667  0.083847  0.758771   \n",
       "Jul  -0.627014 -0.663977 -0.641046 -0.520573 -0.066745  0.507215  0.980552   \n",
       "Jun  -0.453491 -0.667400 -0.646522 -0.532552 -0.297766  0.367918  0.964466   \n",
       "Mar  -0.645153 -0.666031 -0.665346 -0.503460 -0.341916  0.330270  0.714620   \n",
       "May  -0.572938 -0.594842 -0.699572 -0.554114 -0.200908  0.212877  0.874111   \n",
       "Nov  -0.408314 -0.900474 -0.645495 -0.525022  0.115677  0.395982  0.594832   \n",
       "Oct  -0.446646 -0.840922 -0.634201 -0.569515  0.205689  0.479492  0.444240   \n",
       "Sep  -0.510305 -0.763915 -0.523653 -0.566435  0.133132  0.701273  0.587302   \n",
       "All  -0.547811 -0.702024 -0.656704 -0.510391 -0.142097  0.394756  0.725972   \n",
       "\n",
       "Year        07        08        09  ...        91        92        93  \\\n",
       "Apr   0.683133  2.317394  0.183785  ... -0.848452 -0.852217 -0.863169   \n",
       "Aug   0.968230  2.385845  0.828591  ... -0.803959 -0.830655 -0.939834   \n",
       "Dec   1.719135 -0.039364  1.150309  ... -0.911427 -0.898421 -1.080842   \n",
       "Feb   0.548970  1.919695 -0.033888  ... -0.910057 -0.926486 -0.860773   \n",
       "Jan   0.424047  1.574362 -0.139302  ... -0.828601 -0.918956 -0.872410   \n",
       "Jul   1.110950  2.680868  0.811136  ... -0.823810 -0.817307 -0.953866   \n",
       "Jun   0.853233  3.225735  0.826195  ... -0.862142 -0.826548 -0.920667   \n",
       "Mar   0.688609  1.910797  0.133816  ... -0.893972 -0.900474 -0.866249   \n",
       "May   0.624950  2.792784  0.703668  ... -0.842634 -0.809093 -0.880624   \n",
       "Nov   1.470316  0.297071  1.079121  ... -0.830655 -0.885073 -1.037718   \n",
       "Oct   1.669508  0.755006  1.069537  ... -0.765969 -0.860088 -0.986722   \n",
       "Sep   1.229028  1.878625  0.850837  ... -0.804986 -0.822783 -0.922721   \n",
       "All   0.999176  1.808235  0.621984  ... -0.843888 -0.862342 -0.932133   \n",
       "\n",
       "Year        94        95        96        97        98        99           All  \n",
       "Apr  -0.987407 -0.868303 -0.840238 -0.874121 -1.039087 -0.927170  4.689241e-02  \n",
       "Aug  -0.964818 -0.955235 -0.804301 -0.894656 -1.109249 -0.809093  2.975341e-02  \n",
       "Dec  -0.957973 -0.896710 -0.678694 -0.962080 -1.153400 -0.689646 -5.852170e-02  \n",
       "Feb  -1.070232 -0.932988 -0.897052 -0.871041 -1.037376 -1.145870 -2.227792e-02  \n",
       "Jan  -1.045932 -0.936411 -0.958658 -0.739273 -0.976797 -1.129442 -5.590653e-02  \n",
       "Jul  -0.871041 -0.964818 -0.866934 -0.876517 -1.079473 -0.863169  3.485211e-02  \n",
       "Jun  -0.902870 -0.970294 -0.849821 -0.888153 -1.080500 -0.905608  4.971820e-02  \n",
       "Mar  -1.059622 -0.909715 -0.830997 -0.867276 -1.031558 -0.992198 -5.691784e-03  \n",
       "May  -0.939149 -0.919298 -0.889522 -0.851190 -1.045590 -0.989460  3.937117e-02  \n",
       "Nov  -0.948048 -0.943598 -0.752963 -0.910400 -1.181807 -0.724214 -6.880686e-02  \n",
       "Oct  -0.943256 -0.962080 -0.766653 -0.844345 -1.072286 -0.821414 -1.167683e-02  \n",
       "Sep  -0.936411 -0.965503 -0.731401 -0.840922 -1.013418 -0.726952  2.128482e-02  \n",
       "All  -0.968897 -0.935413 -0.822269 -0.868331 -1.068378 -0.893686  1.725698e-16  \n",
       "\n",
       "[13 rows x 41 columns]"
      ]
     },
     "execution_count": 37,
     "metadata": {},
     "output_type": "execute_result"
    }
   ],
   "source": [
    "# Setting the index (month names)\n",
    "mname_index = [[calendar.month_abbr[i] if isinstance(i, int)\n",
    "\n",
    "                else i\n",
    "                                       for i in list(Oil_Price_month_yearly.index)]]\n",
    "Oil_Price_month_yearly = Oil_Price_month_yearly.set_index(mname_index)\n",
    "\n",
    "Oil_Price_month_yearly"
   ]
  },
  {
   "cell_type": "code",
   "execution_count": null,
   "id": "ec23efbe",
   "metadata": {
    "id": "ec23efbe",
    "outputId": "48707261-285f-4c2a-df3b-e7021f698c7c"
   },
   "outputs": [
    {
     "data": {
      "text/plain": [
       "Year\n",
       "00     float64\n",
       "01     float64\n",
       "02     float64\n",
       "03     float64\n",
       "04     float64\n",
       "05     float64\n",
       "06     float64\n",
       "07     float64\n",
       "08     float64\n",
       "09     float64\n",
       "10     float64\n",
       "11     float64\n",
       "12     float64\n",
       "13     float64\n",
       "14     float64\n",
       "15     float64\n",
       "16     float64\n",
       "17     float64\n",
       "18     float64\n",
       "19     float64\n",
       "20     float64\n",
       "21     float64\n",
       "22     float64\n",
       "23     float64\n",
       "84     float64\n",
       "85     float64\n",
       "86     float64\n",
       "87     float64\n",
       "88     float64\n",
       "89     float64\n",
       "90     float64\n",
       "91     float64\n",
       "92     float64\n",
       "93     float64\n",
       "94     float64\n",
       "95     float64\n",
       "96     float64\n",
       "97     float64\n",
       "98     float64\n",
       "99     float64\n",
       "All    float64\n",
       "dtype: object"
      ]
     },
     "execution_count": 38,
     "metadata": {},
     "output_type": "execute_result"
    }
   ],
   "source": [
    "#Check datatype\n",
    "\n",
    "Oil_Price_month_yearly.dtypes"
   ]
  },
  {
   "cell_type": "code",
   "execution_count": null,
   "id": "2104b88b",
   "metadata": {
    "id": "2104b88b",
    "outputId": "005aa4b1-9b0c-4c87-9fa2-8788f20711e6"
   },
   "outputs": [
    {
     "data": {
      "text/html": [
       "<div>\n",
       "<style scoped>\n",
       "    .dataframe tbody tr th:only-of-type {\n",
       "        vertical-align: middle;\n",
       "    }\n",
       "\n",
       "    .dataframe tbody tr th {\n",
       "        vertical-align: top;\n",
       "    }\n",
       "\n",
       "    .dataframe thead th {\n",
       "        text-align: right;\n",
       "    }\n",
       "</style>\n",
       "<table border=\"1\" class=\"dataframe\">\n",
       "  <thead>\n",
       "    <tr style=\"text-align: right;\">\n",
       "      <th>Year</th>\n",
       "      <th>00</th>\n",
       "      <th>01</th>\n",
       "      <th>02</th>\n",
       "      <th>03</th>\n",
       "      <th>04</th>\n",
       "      <th>05</th>\n",
       "      <th>06</th>\n",
       "      <th>07</th>\n",
       "      <th>08</th>\n",
       "      <th>09</th>\n",
       "      <th>...</th>\n",
       "      <th>91</th>\n",
       "      <th>92</th>\n",
       "      <th>93</th>\n",
       "      <th>94</th>\n",
       "      <th>95</th>\n",
       "      <th>96</th>\n",
       "      <th>97</th>\n",
       "      <th>98</th>\n",
       "      <th>99</th>\n",
       "      <th>All</th>\n",
       "    </tr>\n",
       "  </thead>\n",
       "  <tbody>\n",
       "    <tr>\n",
       "      <th>Apr</th>\n",
       "      <td>0</td>\n",
       "      <td>0</td>\n",
       "      <td>0</td>\n",
       "      <td>0</td>\n",
       "      <td>0</td>\n",
       "      <td>0</td>\n",
       "      <td>0</td>\n",
       "      <td>0</td>\n",
       "      <td>2</td>\n",
       "      <td>0</td>\n",
       "      <td>...</td>\n",
       "      <td>0</td>\n",
       "      <td>0</td>\n",
       "      <td>0</td>\n",
       "      <td>0</td>\n",
       "      <td>0</td>\n",
       "      <td>0</td>\n",
       "      <td>0</td>\n",
       "      <td>-1</td>\n",
       "      <td>0</td>\n",
       "      <td>0</td>\n",
       "    </tr>\n",
       "    <tr>\n",
       "      <th>Aug</th>\n",
       "      <td>0</td>\n",
       "      <td>0</td>\n",
       "      <td>0</td>\n",
       "      <td>0</td>\n",
       "      <td>0</td>\n",
       "      <td>0</td>\n",
       "      <td>0</td>\n",
       "      <td>0</td>\n",
       "      <td>2</td>\n",
       "      <td>0</td>\n",
       "      <td>...</td>\n",
       "      <td>0</td>\n",
       "      <td>0</td>\n",
       "      <td>0</td>\n",
       "      <td>0</td>\n",
       "      <td>0</td>\n",
       "      <td>0</td>\n",
       "      <td>0</td>\n",
       "      <td>-1</td>\n",
       "      <td>0</td>\n",
       "      <td>0</td>\n",
       "    </tr>\n",
       "    <tr>\n",
       "      <th>Dec</th>\n",
       "      <td>0</td>\n",
       "      <td>0</td>\n",
       "      <td>0</td>\n",
       "      <td>0</td>\n",
       "      <td>0</td>\n",
       "      <td>0</td>\n",
       "      <td>0</td>\n",
       "      <td>1</td>\n",
       "      <td>0</td>\n",
       "      <td>1</td>\n",
       "      <td>...</td>\n",
       "      <td>0</td>\n",
       "      <td>0</td>\n",
       "      <td>-1</td>\n",
       "      <td>0</td>\n",
       "      <td>0</td>\n",
       "      <td>0</td>\n",
       "      <td>0</td>\n",
       "      <td>-1</td>\n",
       "      <td>0</td>\n",
       "      <td>0</td>\n",
       "    </tr>\n",
       "    <tr>\n",
       "      <th>Feb</th>\n",
       "      <td>0</td>\n",
       "      <td>0</td>\n",
       "      <td>0</td>\n",
       "      <td>0</td>\n",
       "      <td>0</td>\n",
       "      <td>0</td>\n",
       "      <td>0</td>\n",
       "      <td>0</td>\n",
       "      <td>1</td>\n",
       "      <td>0</td>\n",
       "      <td>...</td>\n",
       "      <td>0</td>\n",
       "      <td>0</td>\n",
       "      <td>0</td>\n",
       "      <td>-1</td>\n",
       "      <td>0</td>\n",
       "      <td>0</td>\n",
       "      <td>0</td>\n",
       "      <td>-1</td>\n",
       "      <td>-1</td>\n",
       "      <td>0</td>\n",
       "    </tr>\n",
       "    <tr>\n",
       "      <th>Jan</th>\n",
       "      <td>0</td>\n",
       "      <td>0</td>\n",
       "      <td>0</td>\n",
       "      <td>0</td>\n",
       "      <td>0</td>\n",
       "      <td>0</td>\n",
       "      <td>0</td>\n",
       "      <td>0</td>\n",
       "      <td>1</td>\n",
       "      <td>0</td>\n",
       "      <td>...</td>\n",
       "      <td>0</td>\n",
       "      <td>0</td>\n",
       "      <td>0</td>\n",
       "      <td>-1</td>\n",
       "      <td>0</td>\n",
       "      <td>0</td>\n",
       "      <td>0</td>\n",
       "      <td>0</td>\n",
       "      <td>-1</td>\n",
       "      <td>0</td>\n",
       "    </tr>\n",
       "  </tbody>\n",
       "</table>\n",
       "<p>5 rows × 41 columns</p>\n",
       "</div>"
      ],
      "text/plain": [
       "Year  00  01  02  03  04  05  06  07  08  09  ...  91  92  93  94  95  96  97  \\\n",
       "Apr    0   0   0   0   0   0   0   0   2   0  ...   0   0   0   0   0   0   0   \n",
       "Aug    0   0   0   0   0   0   0   0   2   0  ...   0   0   0   0   0   0   0   \n",
       "Dec    0   0   0   0   0   0   0   1   0   1  ...   0   0  -1   0   0   0   0   \n",
       "Feb    0   0   0   0   0   0   0   0   1   0  ...   0   0   0  -1   0   0   0   \n",
       "Jan    0   0   0   0   0   0   0   0   1   0  ...   0   0   0  -1   0   0   0   \n",
       "\n",
       "Year  98  99  All  \n",
       "Apr   -1   0    0  \n",
       "Aug   -1   0    0  \n",
       "Dec   -1   0    0  \n",
       "Feb   -1  -1    0  \n",
       "Jan    0  -1    0  \n",
       "\n",
       "[5 rows x 41 columns]"
      ]
     },
     "execution_count": 39,
     "metadata": {},
     "output_type": "execute_result"
    }
   ],
   "source": [
    "#change datatype float into int\n",
    "\n",
    "Oil_Price_month_yearly = Oil_Price_month_yearly.astype('int')\n",
    "Oil_Price_month_yearly.head()"
   ]
  },
  {
   "cell_type": "code",
   "execution_count": null,
   "id": "a3a9fa5b",
   "metadata": {
    "id": "a3a9fa5b",
    "outputId": "cbe71887-9f8c-4971-b6b5-cdb57361df6b"
   },
   "outputs": [
    {
     "data": {
      "text/plain": [
       "Year\n",
       "00     int32\n",
       "01     int32\n",
       "02     int32\n",
       "03     int32\n",
       "04     int32\n",
       "05     int32\n",
       "06     int32\n",
       "07     int32\n",
       "08     int32\n",
       "09     int32\n",
       "10     int32\n",
       "11     int32\n",
       "12     int32\n",
       "13     int32\n",
       "14     int32\n",
       "15     int32\n",
       "16     int32\n",
       "17     int32\n",
       "18     int32\n",
       "19     int32\n",
       "20     int32\n",
       "21     int32\n",
       "22     int32\n",
       "23     int32\n",
       "84     int32\n",
       "85     int32\n",
       "86     int32\n",
       "87     int32\n",
       "88     int32\n",
       "89     int32\n",
       "90     int32\n",
       "91     int32\n",
       "92     int32\n",
       "93     int32\n",
       "94     int32\n",
       "95     int32\n",
       "96     int32\n",
       "97     int32\n",
       "98     int32\n",
       "99     int32\n",
       "All    int32\n",
       "dtype: object"
      ]
     },
     "execution_count": 40,
     "metadata": {},
     "output_type": "execute_result"
    }
   ],
   "source": [
    "Oil_Price_month_yearly.dtypes"
   ]
  },
  {
   "cell_type": "markdown",
   "id": "5622c446",
   "metadata": {
    "id": "5622c446"
   },
   "source": [
    "# Visualization for average Oil price\n",
    "### heatmap for average Oil price for all months"
   ]
  },
  {
   "cell_type": "code",
   "execution_count": null,
   "id": "e982f77f",
   "metadata": {
    "id": "e982f77f",
    "outputId": "af81b56c-9528-48cc-96cd-c0f97b3501d4"
   },
   "outputs": [
    {
     "data": {
      "image/png": "[encoded data removed]",
      "text/plain": [
       "<Figure size 720x576 with 2 Axes>"
      ]
     },
     "metadata": {},
     "output_type": "display_data"
    }
   ],
   "source": [
    "ax = sns.heatmap(Oil_Price_month_yearly, cmap='YlGnBu', robust=True, fmt='.2f',\n",
    "                 annot=True, linewidths=.8,linecolor = 'black', annot_kws={'size':10},\n",
    "                 cbar_kws={'shrink':.8, 'label':'Open'})\n",
    "\n",
    "ax.set_yticklabels(ax.get_yticklabels(),rotation=0, fontsize=10)\n",
    "ax.set_ylabel('Month')\n",
    "ax.set_xticklabels(ax.get_xticklabels(), rotation=0, fontsize=10)\n",
    "plt.title('Average Oil Price for All Months', fontdict={'fontsize':18},    pad=16);"
   ]
  },
  {
   "cell_type": "markdown",
   "id": "38f120d8",
   "metadata": {
    "id": "38f120d8"
   },
   "source": [
    "# Boxplot for average gold price"
   ]
  },
  {
   "cell_type": "code",
   "execution_count": null,
   "id": "b44cc1c2",
   "metadata": {
    "id": "b44cc1c2",
    "outputId": "c6aa8b65-2621-42d3-f725-bc2452b9037c"
   },
   "outputs": [
    {
     "data": {
      "image/png": "[encoded data removed]",
      "text/plain": [
       "<Figure size 864x720 with 1 Axes>"
      ]
     },
     "metadata": {},
     "output_type": "display_data"
    }
   ],
   "source": [
    "fig = plt.subplots(figsize = (12,10))\n",
    "sns.boxplot(data = Oil_Price_month_yearly)\n",
    "plt.title(\" Average Gold price \")\n",
    "plt.xlabel('year')\n",
    "plt.ylabel('price')\n",
    "plt.show()"
   ]
  },
  {
   "cell_type": "markdown",
   "id": "ad6b3d29",
   "metadata": {
    "id": "ad6b3d29"
   },
   "source": [
    "### Scatterplot for average gold price"
   ]
  },
  {
   "cell_type": "code",
   "execution_count": null,
   "id": "554188f7",
   "metadata": {
    "id": "554188f7",
    "outputId": "cd69d00c-318a-4a0a-a60c-d63bdba42927"
   },
   "outputs": [
    {
     "data": {
      "text/plain": [
       "<function matplotlib.pyplot.show(close=None, block=None)>"
      ]
     },
     "execution_count": 43,
     "metadata": {},
     "output_type": "execute_result"
    },
    {
     "data": {
      "image/png": "[encoded data removed]",
      "text/plain": [
       "<Figure size 1080x864 with 1 Axes>"
      ]
     },
     "metadata": {},
     "output_type": "display_data"
    }
   ],
   "source": [
    "fig = plt.subplots(figsize = (15,12))\n",
    "ax = sns.scatterplot(data= Oil_Price_month_yearly,s = 15**2)\n",
    "plt.title(\" average oil price in between 1984-2023\")\n",
    "plt.xlabel('Month')\n",
    "plt.ylabel('Price')\n",
    "plt.grid(True)\n",
    "plt.legend(bbox_to_anchor=(1.22,0.5), loc= 'upper right')\n",
    "plt.show"
   ]
  },
  {
   "cell_type": "markdown",
   "id": "4a4e1e6f",
   "metadata": {
    "id": "4a4e1e6f"
   },
   "source": [
    "# MODEL Building"
   ]
  },
  {
   "cell_type": "code",
   "execution_count": null,
   "id": "68d1d36b",
   "metadata": {
    "id": "68d1d36b"
   },
   "outputs": [],
   "source": [
    "# Loading Dataset\n",
    "DF1 = pd.read_csv('C:/Users/HP/Downloads/OilPriceMonthly.csv')"
   ]
  },
  {
   "cell_type": "code",
   "execution_count": null,
   "id": "f50bb937",
   "metadata": {
    "id": "f50bb937",
    "outputId": "66405cc5-8408-46f4-d42c-e579d10f036e"
   },
   "outputs": [
    {
     "data": {
      "text/html": [
       "<div>\n",
       "<style scoped>\n",
       "    .dataframe tbody tr th:only-of-type {\n",
       "        vertical-align: middle;\n",
       "    }\n",
       "\n",
       "    .dataframe tbody tr th {\n",
       "        vertical-align: top;\n",
       "    }\n",
       "\n",
       "    .dataframe thead th {\n",
       "        text-align: right;\n",
       "    }\n",
       "</style>\n",
       "<table border=\"1\" class=\"dataframe\">\n",
       "  <thead>\n",
       "    <tr style=\"text-align: right;\">\n",
       "      <th></th>\n",
       "      <th>Date</th>\n",
       "      <th>Price</th>\n",
       "      <th>Open</th>\n",
       "      <th>High</th>\n",
       "      <th>Low</th>\n",
       "      <th>Volume</th>\n",
       "      <th>Chg%</th>\n",
       "    </tr>\n",
       "  </thead>\n",
       "  <tbody>\n",
       "    <tr>\n",
       "      <th>0</th>\n",
       "      <td>May-84</td>\n",
       "      <td>30.83</td>\n",
       "      <td>30.30</td>\n",
       "      <td>31.50</td>\n",
       "      <td>30.10</td>\n",
       "      <td>40.25K</td>\n",
       "      <td>1.88%</td>\n",
       "    </tr>\n",
       "    <tr>\n",
       "      <th>1</th>\n",
       "      <td>Jun-84</td>\n",
       "      <td>29.75</td>\n",
       "      <td>30.86</td>\n",
       "      <td>30.88</td>\n",
       "      <td>29.04</td>\n",
       "      <td>39.40K</td>\n",
       "      <td>-3.50%</td>\n",
       "    </tr>\n",
       "    <tr>\n",
       "      <th>2</th>\n",
       "      <td>Jul-84</td>\n",
       "      <td>27.60</td>\n",
       "      <td>29.82</td>\n",
       "      <td>29.99</td>\n",
       "      <td>27.55</td>\n",
       "      <td>54.91K</td>\n",
       "      <td>-7.23%</td>\n",
       "    </tr>\n",
       "    <tr>\n",
       "      <th>3</th>\n",
       "      <td>Aug-84</td>\n",
       "      <td>29.23</td>\n",
       "      <td>27.76</td>\n",
       "      <td>30.00</td>\n",
       "      <td>27.73</td>\n",
       "      <td>65.85K</td>\n",
       "      <td>5.91%</td>\n",
       "    </tr>\n",
       "    <tr>\n",
       "      <th>4</th>\n",
       "      <td>Sep-84</td>\n",
       "      <td>29.66</td>\n",
       "      <td>29.06</td>\n",
       "      <td>29.85</td>\n",
       "      <td>28.84</td>\n",
       "      <td>35.82K</td>\n",
       "      <td>1.47%</td>\n",
       "    </tr>\n",
       "  </tbody>\n",
       "</table>\n",
       "</div>"
      ],
      "text/plain": [
       "     Date  Price   Open   High    Low  Volume    Chg%\n",
       "0  May-84  30.83  30.30  31.50  30.10  40.25K   1.88%\n",
       "1  Jun-84  29.75  30.86  30.88  29.04  39.40K  -3.50%\n",
       "2  Jul-84  27.60  29.82  29.99  27.55  54.91K  -7.23%\n",
       "3  Aug-84  29.23  27.76  30.00  27.73  65.85K   5.91%\n",
       "4  Sep-84  29.66  29.06  29.85  28.84  35.82K   1.47%"
      ]
     },
     "execution_count": 45,
     "metadata": {},
     "output_type": "execute_result"
    }
   ],
   "source": [
    "DF1.head(5)"
   ]
  },
  {
   "cell_type": "code",
   "execution_count": null,
   "id": "7328d79c",
   "metadata": {
    "id": "7328d79c",
    "outputId": "019efb36-08af-4f36-bbd2-9fcb16862797"
   },
   "outputs": [
    {
     "data": {
      "text/html": [
       "<div>\n",
       "<style scoped>\n",
       "    .dataframe tbody tr th:only-of-type {\n",
       "        vertical-align: middle;\n",
       "    }\n",
       "\n",
       "    .dataframe tbody tr th {\n",
       "        vertical-align: top;\n",
       "    }\n",
       "\n",
       "    .dataframe thead th {\n",
       "        text-align: right;\n",
       "    }\n",
       "</style>\n",
       "<table border=\"1\" class=\"dataframe\">\n",
       "  <thead>\n",
       "    <tr style=\"text-align: right;\">\n",
       "      <th></th>\n",
       "      <th>Date</th>\n",
       "      <th>Price</th>\n",
       "      <th>Open</th>\n",
       "      <th>High</th>\n",
       "      <th>Low</th>\n",
       "      <th>Volume</th>\n",
       "      <th>Chg%</th>\n",
       "    </tr>\n",
       "  </thead>\n",
       "  <tbody>\n",
       "    <tr>\n",
       "      <th>464</th>\n",
       "      <td>Jan-23</td>\n",
       "      <td>80.11</td>\n",
       "      <td>80.57</td>\n",
       "      <td>82.66</td>\n",
       "      <td>72.47</td>\n",
       "      <td>189.32K</td>\n",
       "      <td>-0.45%</td>\n",
       "    </tr>\n",
       "    <tr>\n",
       "      <th>465</th>\n",
       "      <td>Feb-23</td>\n",
       "      <td>77.05</td>\n",
       "      <td>79.12</td>\n",
       "      <td>80.61</td>\n",
       "      <td>72.25</td>\n",
       "      <td>300.09K</td>\n",
       "      <td>-3.82%</td>\n",
       "    </tr>\n",
       "    <tr>\n",
       "      <th>466</th>\n",
       "      <td>Mar-23</td>\n",
       "      <td>75.67</td>\n",
       "      <td>76.85</td>\n",
       "      <td>80.94</td>\n",
       "      <td>64.12</td>\n",
       "      <td>7.07M</td>\n",
       "      <td>-1.79%</td>\n",
       "    </tr>\n",
       "    <tr>\n",
       "      <th>467</th>\n",
       "      <td>Apr-23</td>\n",
       "      <td>76.78</td>\n",
       "      <td>80.27</td>\n",
       "      <td>83.53</td>\n",
       "      <td>73.93</td>\n",
       "      <td>328.40K</td>\n",
       "      <td>1.47%</td>\n",
       "    </tr>\n",
       "    <tr>\n",
       "      <th>468</th>\n",
       "      <td>May-23</td>\n",
       "      <td>70.04</td>\n",
       "      <td>76.13</td>\n",
       "      <td>76.28</td>\n",
       "      <td>63.70</td>\n",
       "      <td>365.89K</td>\n",
       "      <td>-8.78%</td>\n",
       "    </tr>\n",
       "  </tbody>\n",
       "</table>\n",
       "</div>"
      ],
      "text/plain": [
       "       Date  Price   Open   High    Low   Volume    Chg%\n",
       "464  Jan-23  80.11  80.57  82.66  72.47  189.32K  -0.45%\n",
       "465  Feb-23  77.05  79.12  80.61  72.25  300.09K  -3.82%\n",
       "466  Mar-23  75.67  76.85  80.94  64.12    7.07M  -1.79%\n",
       "467  Apr-23  76.78  80.27  83.53  73.93  328.40K   1.47%\n",
       "468  May-23  70.04  76.13  76.28  63.70  365.89K  -8.78%"
      ]
     },
     "execution_count": 46,
     "metadata": {},
     "output_type": "execute_result"
    }
   ],
   "source": [
    "DF1.tail(5)"
   ]
  },
  {
   "cell_type": "markdown",
   "id": "b5b44ce2",
   "metadata": {
    "id": "b5b44ce2"
   },
   "source": [
    "# Data Driven Forecasting Methods"
   ]
  },
  {
   "cell_type": "code",
   "execution_count": null,
   "id": "a3c5ef50",
   "metadata": {
    "id": "a3c5ef50"
   },
   "outputs": [],
   "source": [
    "from statsmodels.tsa.holtwinters import SimpleExpSmoothing # SES\n",
    "from statsmodels.tsa.holtwinters import Holt # Holts Exponential Smoothing\n",
    "from statsmodels.tsa.holtwinters import ExponentialSmoothing"
   ]
  },
  {
   "cell_type": "markdown",
   "id": "45486d09",
   "metadata": {
    "id": "45486d09"
   },
   "source": [
    "##### Splitting Data"
   ]
  },
  {
   "cell_type": "code",
   "execution_count": null,
   "id": "5cf2d3ab",
   "metadata": {
    "id": "5cf2d3ab"
   },
   "outputs": [],
   "source": [
    "# Splitting Data\n",
    "Train = DF1.head(295)\n",
    "Test = DF1.tail(74)"
   ]
  },
  {
   "cell_type": "markdown",
   "id": "2b0d3c4b",
   "metadata": {
    "id": "2b0d3c4b"
   },
   "source": [
    "### Evaluation Metric RMSE"
   ]
  },
  {
   "cell_type": "code",
   "execution_count": null,
   "id": "5de7b55f",
   "metadata": {
    "id": "5de7b55f"
   },
   "outputs": [],
   "source": [
    "def RMSE(org, pred):\n",
    "    rmse=np.sqrt(np.mean((np.array(org)-np.array(pred))**2))\n",
    "    return rmse"
   ]
  },
  {
   "cell_type": "markdown",
   "id": "edba9d75",
   "metadata": {
    "id": "edba9d75"
   },
   "source": [
    "### Simple Exponential Method"
   ]
  },
  {
   "cell_type": "code",
   "execution_count": null,
   "id": "722e89c4",
   "metadata": {
    "id": "722e89c4",
    "outputId": "7a2805de-6de6-481a-f247-98e0ce069d37"
   },
   "outputs": [
    {
     "data": {
      "text/plain": [
       "20.794723709595328"
      ]
     },
     "execution_count": 50,
     "metadata": {},
     "output_type": "execute_result"
    }
   ],
   "source": [
    "warnings.filterwarnings('ignore')\n",
    "ses_model = SimpleExpSmoothing(Train[\"Price\"]).fit()\n",
    "pred_ses = ses_model.predict(start = Test.index[0],end = Test.index[-1])\n",
    "rmse_ses_model = RMSE(Test.Price, pred_ses)\n",
    "rmse_ses_model"
   ]
  },
  {
   "cell_type": "markdown",
   "id": "b156363a",
   "metadata": {
    "id": "b156363a"
   },
   "source": [
    "## Holt method"
   ]
  },
  {
   "cell_type": "code",
   "execution_count": null,
   "id": "210d4493",
   "metadata": {
    "id": "210d4493",
    "outputId": "7f896d67-eeb9-45d5-d777-30cd00ea98cc"
   },
   "outputs": [
    {
     "data": {
      "text/plain": [
       "1956.4863838912852"
      ]
     },
     "execution_count": 51,
     "metadata": {},
     "output_type": "execute_result"
    }
   ],
   "source": [
    "hw_model = Holt(Train[\"Price\"]).fit()\n",
    "pred_hw = hw_model.predict(start = Test.index[0],end = Test.index[-1])\n",
    "rmse_hw_model = RMSE(Test.Price, pred_hw)\n",
    "rmse_hw_model"
   ]
  },
  {
   "cell_type": "markdown",
   "id": "25e87f78",
   "metadata": {
    "id": "25e87f78"
   },
   "source": [
    "## Holts winter exponential smoothing with additive seasonality and additive trend"
   ]
  },
  {
   "cell_type": "code",
   "execution_count": null,
   "id": "a9c492ba",
   "metadata": {
    "id": "a9c492ba",
    "outputId": "8fa52c8f-ee45-4590-f4d8-7f53b44ec6b3"
   },
   "outputs": [
    {
     "data": {
      "text/plain": [
       "1822.8084480266934"
      ]
     },
     "execution_count": 52,
     "metadata": {},
     "output_type": "execute_result"
    }
   ],
   "source": [
    "hwe_model_add_add = ExponentialSmoothing(Train[\"Price\"],seasonal=\"add\",trend=\"add\",seasonal_periods=12).fit()\n",
    "pred_hwe_add_add = hwe_model_add_add.predict(start = Test.index[0],end = Test.index[-1])\n",
    "rmse_hwe_add_add_model = RMSE(Test.Price, pred_hwe_add_add)\n",
    "rmse_hwe_add_add_model"
   ]
  },
  {
   "cell_type": "markdown",
   "id": "a180de71",
   "metadata": {
    "id": "a180de71"
   },
   "source": [
    "## Holts winter exponential smoothing with multiplicative seasonality and additive trend"
   ]
  },
  {
   "cell_type": "code",
   "execution_count": null,
   "id": "6d856545",
   "metadata": {
    "id": "6d856545",
    "outputId": "93ccd3b8-5586-4d25-bea6-2619681c36db"
   },
   "outputs": [
    {
     "data": {
      "text/plain": [
       "1425.8331020589396"
      ]
     },
     "execution_count": 53,
     "metadata": {},
     "output_type": "execute_result"
    }
   ],
   "source": [
    "hwe_model_mul_add = ExponentialSmoothing(Train[\"Price\"],seasonal=\"mul\",trend=\"add\",seasonal_periods=12).fit()\n",
    "pred_hwe_mul_add = hwe_model_mul_add.predict(start = Test.index[0],end = Test.index[-1])\n",
    "rmse_hwe_model_mul_add_model = RMSE(Test.Price, pred_hwe_mul_add)\n",
    "rmse_hwe_model_mul_add_model"
   ]
  },
  {
   "cell_type": "markdown",
   "id": "c6d60b48",
   "metadata": {
    "id": "c6d60b48"
   },
   "source": [
    "# Model based Forecasting Methods"
   ]
  },
  {
   "cell_type": "code",
   "execution_count": null,
   "id": "3a97280a",
   "metadata": {
    "id": "3a97280a",
    "outputId": "4474cf42-c4e3-4c69-b3db-1e3ab36761d5"
   },
   "outputs": [
    {
     "data": {
      "text/html": [
       "<div>\n",
       "<style scoped>\n",
       "    .dataframe tbody tr th:only-of-type {\n",
       "        vertical-align: middle;\n",
       "    }\n",
       "\n",
       "    .dataframe tbody tr th {\n",
       "        vertical-align: top;\n",
       "    }\n",
       "\n",
       "    .dataframe thead th {\n",
       "        text-align: right;\n",
       "    }\n",
       "</style>\n",
       "<table border=\"1\" class=\"dataframe\">\n",
       "  <thead>\n",
       "    <tr style=\"text-align: right;\">\n",
       "      <th></th>\n",
       "      <th>Date</th>\n",
       "      <th>Price</th>\n",
       "      <th>Open</th>\n",
       "      <th>High</th>\n",
       "      <th>Low</th>\n",
       "      <th>Volume</th>\n",
       "      <th>Chg%</th>\n",
       "      <th>t</th>\n",
       "      <th>t_squared</th>\n",
       "      <th>log_price</th>\n",
       "    </tr>\n",
       "  </thead>\n",
       "  <tbody>\n",
       "    <tr>\n",
       "      <th>0</th>\n",
       "      <td>May-84</td>\n",
       "      <td>30.83</td>\n",
       "      <td>30.30</td>\n",
       "      <td>31.50</td>\n",
       "      <td>30.10</td>\n",
       "      <td>40.25K</td>\n",
       "      <td>1.88%</td>\n",
       "      <td>0</td>\n",
       "      <td>0</td>\n",
       "      <td>3.428488</td>\n",
       "    </tr>\n",
       "    <tr>\n",
       "      <th>1</th>\n",
       "      <td>Jun-84</td>\n",
       "      <td>29.75</td>\n",
       "      <td>30.86</td>\n",
       "      <td>30.88</td>\n",
       "      <td>29.04</td>\n",
       "      <td>39.40K</td>\n",
       "      <td>-3.50%</td>\n",
       "      <td>1</td>\n",
       "      <td>1</td>\n",
       "      <td>3.392829</td>\n",
       "    </tr>\n",
       "    <tr>\n",
       "      <th>2</th>\n",
       "      <td>Jul-84</td>\n",
       "      <td>27.60</td>\n",
       "      <td>29.82</td>\n",
       "      <td>29.99</td>\n",
       "      <td>27.55</td>\n",
       "      <td>54.91K</td>\n",
       "      <td>-7.23%</td>\n",
       "      <td>2</td>\n",
       "      <td>4</td>\n",
       "      <td>3.317816</td>\n",
       "    </tr>\n",
       "    <tr>\n",
       "      <th>3</th>\n",
       "      <td>Aug-84</td>\n",
       "      <td>29.23</td>\n",
       "      <td>27.76</td>\n",
       "      <td>30.00</td>\n",
       "      <td>27.73</td>\n",
       "      <td>65.85K</td>\n",
       "      <td>5.91%</td>\n",
       "      <td>3</td>\n",
       "      <td>9</td>\n",
       "      <td>3.375196</td>\n",
       "    </tr>\n",
       "    <tr>\n",
       "      <th>4</th>\n",
       "      <td>Sep-84</td>\n",
       "      <td>29.66</td>\n",
       "      <td>29.06</td>\n",
       "      <td>29.85</td>\n",
       "      <td>28.84</td>\n",
       "      <td>35.82K</td>\n",
       "      <td>1.47%</td>\n",
       "      <td>4</td>\n",
       "      <td>16</td>\n",
       "      <td>3.389799</td>\n",
       "    </tr>\n",
       "  </tbody>\n",
       "</table>\n",
       "</div>"
      ],
      "text/plain": [
       "     Date  Price   Open   High    Low  Volume    Chg%  t  t_squared  log_price\n",
       "0  May-84  30.83  30.30  31.50  30.10  40.25K   1.88%  0          0   3.428488\n",
       "1  Jun-84  29.75  30.86  30.88  29.04  39.40K  -3.50%  1          1   3.392829\n",
       "2  Jul-84  27.60  29.82  29.99  27.55  54.91K  -7.23%  2          4   3.317816\n",
       "3  Aug-84  29.23  27.76  30.00  27.73  65.85K   5.91%  3          9   3.375196\n",
       "4  Sep-84  29.66  29.06  29.85  28.84  35.82K   1.47%  4         16   3.389799"
      ]
     },
     "execution_count": 54,
     "metadata": {},
     "output_type": "execute_result"
    }
   ],
   "source": [
    "# Data preprocessing for models\n",
    "DF1[\"t\"] = np.arange(469)\n",
    "DF1[\"t_squared\"] = DF1[\"t\"]*DF1[\"t\"]\n",
    "\n",
    "DF1[\"log_price\"] = np.log(DF1[\"Price\"])\n",
    "\n",
    "DF1.head()"
   ]
  },
  {
   "cell_type": "markdown",
   "id": "7582a57f",
   "metadata": {
    "id": "7582a57f"
   },
   "source": [
    "###  Splitting Data"
   ]
  },
  {
   "cell_type": "code",
   "execution_count": null,
   "id": "cfd871fe",
   "metadata": {
    "id": "cfd871fe"
   },
   "outputs": [],
   "source": [
    "Train = DF1.head(295)\n",
    "Test = DF1.tail(74)"
   ]
  },
  {
   "cell_type": "markdown",
   "id": "e74a9d9a",
   "metadata": {
    "id": "e74a9d9a"
   },
   "source": [
    "## Linear Model"
   ]
  },
  {
   "cell_type": "code",
   "execution_count": null,
   "id": "4d2ce904",
   "metadata": {
    "id": "4d2ce904",
    "outputId": "4e65e5a3-02ba-4824-c96d-27d37aa35b56"
   },
   "outputs": [
    {
     "data": {
      "text/plain": [
       "23.513538795893435"
      ]
     },
     "execution_count": 56,
     "metadata": {},
     "output_type": "execute_result"
    }
   ],
   "source": [
    "import statsmodels.formula.api as smf\n",
    "\n",
    "linear_model = smf.ols('Price~t',data=Train).fit()\n",
    "pred_linear =  pd.Series(linear_model.predict(pd.DataFrame(Test['t'])))\n",
    "rmse_linear_model = RMSE(Test['Price'], pred_linear)\n",
    "rmse_linear_model"
   ]
  },
  {
   "cell_type": "markdown",
   "id": "4ab102a1",
   "metadata": {
    "id": "4ab102a1"
   },
   "source": [
    "## Exponential Model"
   ]
  },
  {
   "cell_type": "code",
   "execution_count": null,
   "id": "45d40242",
   "metadata": {
    "id": "45d40242",
    "outputId": "f1639fcf-3a4d-42b6-b9ee-02829e9eab65"
   },
   "outputs": [
    {
     "data": {
      "text/plain": [
       "30.199803827407887"
      ]
     },
     "execution_count": 57,
     "metadata": {},
     "output_type": "execute_result"
    }
   ],
   "source": [
    "Exp = smf.ols('log_price~t',data=Train).fit()\n",
    "pred_Exp = pd.Series(Exp.predict(pd.DataFrame(Test['t'])))\n",
    "rmse_Exp_model = RMSE(Test['Price'], np.exp(pred_Exp))\n",
    "rmse_Exp_model"
   ]
  },
  {
   "cell_type": "markdown",
   "id": "b9b2f551",
   "metadata": {
    "id": "b9b2f551"
   },
   "source": [
    "## Quadratic Model"
   ]
  },
  {
   "cell_type": "code",
   "execution_count": null,
   "id": "bea417c1",
   "metadata": {
    "id": "bea417c1",
    "outputId": "93fc8483-2451-4db6-801b-f5e020c83ae7"
   },
   "outputs": [
    {
     "data": {
      "text/plain": [
       "168.69291973840015"
      ]
     },
     "execution_count": 58,
     "metadata": {},
     "output_type": "execute_result"
    }
   ],
   "source": [
    "Quad = smf.ols('Price~t+t_squared',data=Train).fit()\n",
    "pred_Quad = pd.Series(Quad.predict(Test[[\"t\",\"t_squared\"]]))\n",
    "rmse_Quad_model = RMSE(Test['Price'], pred_Quad)\n",
    "rmse_Quad_model"
   ]
  },
  {
   "cell_type": "code",
   "execution_count": null,
   "id": "153b64f4",
   "metadata": {
    "id": "153b64f4"
   },
   "outputs": [],
   "source": [
    "list = [['Simple Exponential Method',rmse_ses_model], ['Holt method',rmse_hw_model],\n",
    "          ['HW exp smoothing add',rmse_hwe_add_add_model],['HW exp smoothing mult',rmse_hwe_model_mul_add_model],\n",
    "          ['Linear Model',rmse_linear_model],['Exp model',rmse_Exp_model],['Quad model',rmse_Quad_model]]"
   ]
  },
  {
   "cell_type": "code",
   "execution_count": null,
   "id": "043bf5fc",
   "metadata": {
    "id": "043bf5fc",
    "outputId": "d8540afd-5839-4b73-88af-cf15d82b32f9"
   },
   "outputs": [
    {
     "data": {
      "text/html": [
       "<div>\n",
       "<style scoped>\n",
       "    .dataframe tbody tr th:only-of-type {\n",
       "        vertical-align: middle;\n",
       "    }\n",
       "\n",
       "    .dataframe tbody tr th {\n",
       "        vertical-align: top;\n",
       "    }\n",
       "\n",
       "    .dataframe thead th {\n",
       "        text-align: right;\n",
       "    }\n",
       "</style>\n",
       "<table border=\"1\" class=\"dataframe\">\n",
       "  <thead>\n",
       "    <tr style=\"text-align: right;\">\n",
       "      <th></th>\n",
       "      <th>Model</th>\n",
       "      <th>RMSE_Value</th>\n",
       "    </tr>\n",
       "  </thead>\n",
       "  <tbody>\n",
       "    <tr>\n",
       "      <th>0</th>\n",
       "      <td>Simple Exponential Method</td>\n",
       "      <td>20.794724</td>\n",
       "    </tr>\n",
       "    <tr>\n",
       "      <th>1</th>\n",
       "      <td>Holt method</td>\n",
       "      <td>1956.486384</td>\n",
       "    </tr>\n",
       "    <tr>\n",
       "      <th>2</th>\n",
       "      <td>HW exp smoothing add</td>\n",
       "      <td>1822.808448</td>\n",
       "    </tr>\n",
       "    <tr>\n",
       "      <th>3</th>\n",
       "      <td>HW exp smoothing mult</td>\n",
       "      <td>1425.833102</td>\n",
       "    </tr>\n",
       "    <tr>\n",
       "      <th>4</th>\n",
       "      <td>Linear Model</td>\n",
       "      <td>23.513539</td>\n",
       "    </tr>\n",
       "    <tr>\n",
       "      <th>5</th>\n",
       "      <td>Exp model</td>\n",
       "      <td>30.199804</td>\n",
       "    </tr>\n",
       "    <tr>\n",
       "      <th>6</th>\n",
       "      <td>Quad model</td>\n",
       "      <td>168.692920</td>\n",
       "    </tr>\n",
       "  </tbody>\n",
       "</table>\n",
       "</div>"
      ],
      "text/plain": [
       "                       Model   RMSE_Value\n",
       "0  Simple Exponential Method    20.794724\n",
       "1                Holt method  1956.486384\n",
       "2       HW exp smoothing add  1822.808448\n",
       "3      HW exp smoothing mult  1425.833102\n",
       "4               Linear Model    23.513539\n",
       "5                  Exp model    30.199804\n",
       "6                 Quad model   168.692920"
      ]
     },
     "execution_count": 60,
     "metadata": {},
     "output_type": "execute_result"
    }
   ],
   "source": [
    "dataf = pd.DataFrame(list, columns =['Model', 'RMSE_Value'])\n",
    "dataf"
   ]
  },
  {
   "cell_type": "markdown",
   "id": "5a046fe6",
   "metadata": {
    "id": "5a046fe6"
   },
   "source": [
    "## Building final model with least RMSE value"
   ]
  },
  {
   "cell_type": "code",
   "execution_count": null,
   "id": "a205512c",
   "metadata": {
    "id": "a205512c",
    "outputId": "3992fa64-c76c-4a2e-d2a9-8159eda6e2af"
   },
   "outputs": [
    {
     "data": {
      "text/html": [
       "<div>\n",
       "<style scoped>\n",
       "    .dataframe tbody tr th:only-of-type {\n",
       "        vertical-align: middle;\n",
       "    }\n",
       "\n",
       "    .dataframe tbody tr th {\n",
       "        vertical-align: top;\n",
       "    }\n",
       "\n",
       "    .dataframe thead th {\n",
       "        text-align: right;\n",
       "    }\n",
       "</style>\n",
       "<table border=\"1\" class=\"dataframe\">\n",
       "  <thead>\n",
       "    <tr style=\"text-align: right;\">\n",
       "      <th></th>\n",
       "      <th>Date</th>\n",
       "      <th>Price</th>\n",
       "      <th>Open</th>\n",
       "      <th>High</th>\n",
       "      <th>Low</th>\n",
       "      <th>Volume</th>\n",
       "      <th>Chg%</th>\n",
       "      <th>t</th>\n",
       "      <th>t_squared</th>\n",
       "      <th>log_price</th>\n",
       "    </tr>\n",
       "  </thead>\n",
       "  <tbody>\n",
       "    <tr>\n",
       "      <th>0</th>\n",
       "      <td>May-84</td>\n",
       "      <td>30.83</td>\n",
       "      <td>30.30</td>\n",
       "      <td>31.50</td>\n",
       "      <td>30.10</td>\n",
       "      <td>40.25K</td>\n",
       "      <td>1.88%</td>\n",
       "      <td>0</td>\n",
       "      <td>0</td>\n",
       "      <td>3.428488</td>\n",
       "    </tr>\n",
       "    <tr>\n",
       "      <th>1</th>\n",
       "      <td>Jun-84</td>\n",
       "      <td>29.75</td>\n",
       "      <td>30.86</td>\n",
       "      <td>30.88</td>\n",
       "      <td>29.04</td>\n",
       "      <td>39.40K</td>\n",
       "      <td>-3.50%</td>\n",
       "      <td>1</td>\n",
       "      <td>1</td>\n",
       "      <td>3.392829</td>\n",
       "    </tr>\n",
       "    <tr>\n",
       "      <th>2</th>\n",
       "      <td>Jul-84</td>\n",
       "      <td>27.60</td>\n",
       "      <td>29.82</td>\n",
       "      <td>29.99</td>\n",
       "      <td>27.55</td>\n",
       "      <td>54.91K</td>\n",
       "      <td>-7.23%</td>\n",
       "      <td>2</td>\n",
       "      <td>4</td>\n",
       "      <td>3.317816</td>\n",
       "    </tr>\n",
       "    <tr>\n",
       "      <th>3</th>\n",
       "      <td>Aug-84</td>\n",
       "      <td>29.23</td>\n",
       "      <td>27.76</td>\n",
       "      <td>30.00</td>\n",
       "      <td>27.73</td>\n",
       "      <td>65.85K</td>\n",
       "      <td>5.91%</td>\n",
       "      <td>3</td>\n",
       "      <td>9</td>\n",
       "      <td>3.375196</td>\n",
       "    </tr>\n",
       "    <tr>\n",
       "      <th>4</th>\n",
       "      <td>Sep-84</td>\n",
       "      <td>29.66</td>\n",
       "      <td>29.06</td>\n",
       "      <td>29.85</td>\n",
       "      <td>28.84</td>\n",
       "      <td>35.82K</td>\n",
       "      <td>1.47%</td>\n",
       "      <td>4</td>\n",
       "      <td>16</td>\n",
       "      <td>3.389799</td>\n",
       "    </tr>\n",
       "  </tbody>\n",
       "</table>\n",
       "</div>"
      ],
      "text/plain": [
       "     Date  Price   Open   High    Low  Volume    Chg%  t  t_squared  log_price\n",
       "0  May-84  30.83  30.30  31.50  30.10  40.25K   1.88%  0          0   3.428488\n",
       "1  Jun-84  29.75  30.86  30.88  29.04  39.40K  -3.50%  1          1   3.392829\n",
       "2  Jul-84  27.60  29.82  29.99  27.55  54.91K  -7.23%  2          4   3.317816\n",
       "3  Aug-84  29.23  27.76  30.00  27.73  65.85K   5.91%  3          9   3.375196\n",
       "4  Sep-84  29.66  29.06  29.85  28.84  35.82K   1.47%  4         16   3.389799"
      ]
     },
     "execution_count": 61,
     "metadata": {},
     "output_type": "execute_result"
    }
   ],
   "source": [
    "DF1.head(5)"
   ]
  },
  {
   "cell_type": "code",
   "execution_count": null,
   "id": "a4adb2df",
   "metadata": {
    "id": "a4adb2df",
    "outputId": "06dd5e18-1430-4fce-a4b9-61f92cd90027"
   },
   "outputs": [
    {
     "data": {
      "text/html": [
       "<div>\n",
       "<style scoped>\n",
       "    .dataframe tbody tr th:only-of-type {\n",
       "        vertical-align: middle;\n",
       "    }\n",
       "\n",
       "    .dataframe tbody tr th {\n",
       "        vertical-align: top;\n",
       "    }\n",
       "\n",
       "    .dataframe thead th {\n",
       "        text-align: right;\n",
       "    }\n",
       "</style>\n",
       "<table border=\"1\" class=\"dataframe\">\n",
       "  <thead>\n",
       "    <tr style=\"text-align: right;\">\n",
       "      <th></th>\n",
       "      <th>Date</th>\n",
       "      <th>Price</th>\n",
       "      <th>Open</th>\n",
       "      <th>High</th>\n",
       "      <th>Low</th>\n",
       "      <th>Volume</th>\n",
       "      <th>Chg%</th>\n",
       "      <th>t</th>\n",
       "      <th>t_squared</th>\n",
       "      <th>log_price</th>\n",
       "    </tr>\n",
       "  </thead>\n",
       "  <tbody>\n",
       "    <tr>\n",
       "      <th>464</th>\n",
       "      <td>Jan-23</td>\n",
       "      <td>80.11</td>\n",
       "      <td>80.57</td>\n",
       "      <td>82.66</td>\n",
       "      <td>72.47</td>\n",
       "      <td>189.32K</td>\n",
       "      <td>-0.45%</td>\n",
       "      <td>464</td>\n",
       "      <td>215296</td>\n",
       "      <td>4.383401</td>\n",
       "    </tr>\n",
       "    <tr>\n",
       "      <th>465</th>\n",
       "      <td>Feb-23</td>\n",
       "      <td>77.05</td>\n",
       "      <td>79.12</td>\n",
       "      <td>80.61</td>\n",
       "      <td>72.25</td>\n",
       "      <td>300.09K</td>\n",
       "      <td>-3.82%</td>\n",
       "      <td>465</td>\n",
       "      <td>216225</td>\n",
       "      <td>4.344455</td>\n",
       "    </tr>\n",
       "    <tr>\n",
       "      <th>466</th>\n",
       "      <td>Mar-23</td>\n",
       "      <td>75.67</td>\n",
       "      <td>76.85</td>\n",
       "      <td>80.94</td>\n",
       "      <td>64.12</td>\n",
       "      <td>7.07M</td>\n",
       "      <td>-1.79%</td>\n",
       "      <td>466</td>\n",
       "      <td>217156</td>\n",
       "      <td>4.326382</td>\n",
       "    </tr>\n",
       "    <tr>\n",
       "      <th>467</th>\n",
       "      <td>Apr-23</td>\n",
       "      <td>76.78</td>\n",
       "      <td>80.27</td>\n",
       "      <td>83.53</td>\n",
       "      <td>73.93</td>\n",
       "      <td>328.40K</td>\n",
       "      <td>1.47%</td>\n",
       "      <td>467</td>\n",
       "      <td>218089</td>\n",
       "      <td>4.340944</td>\n",
       "    </tr>\n",
       "    <tr>\n",
       "      <th>468</th>\n",
       "      <td>May-23</td>\n",
       "      <td>70.04</td>\n",
       "      <td>76.13</td>\n",
       "      <td>76.28</td>\n",
       "      <td>63.70</td>\n",
       "      <td>365.89K</td>\n",
       "      <td>-8.78%</td>\n",
       "      <td>468</td>\n",
       "      <td>219024</td>\n",
       "      <td>4.249067</td>\n",
       "    </tr>\n",
       "  </tbody>\n",
       "</table>\n",
       "</div>"
      ],
      "text/plain": [
       "       Date  Price   Open   High    Low   Volume    Chg%    t  t_squared  \\\n",
       "464  Jan-23  80.11  80.57  82.66  72.47  189.32K  -0.45%  464     215296   \n",
       "465  Feb-23  77.05  79.12  80.61  72.25  300.09K  -3.82%  465     216225   \n",
       "466  Mar-23  75.67  76.85  80.94  64.12    7.07M  -1.79%  466     217156   \n",
       "467  Apr-23  76.78  80.27  83.53  73.93  328.40K   1.47%  467     218089   \n",
       "468  May-23  70.04  76.13  76.28  63.70  365.89K  -8.78%  468     219024   \n",
       "\n",
       "     log_price  \n",
       "464   4.383401  \n",
       "465   4.344455  \n",
       "466   4.326382  \n",
       "467   4.340944  \n",
       "468   4.249067  "
      ]
     },
     "execution_count": 62,
     "metadata": {},
     "output_type": "execute_result"
    }
   ],
   "source": [
    "DF1.tail(5)"
   ]
  },
  {
   "cell_type": "code",
   "execution_count": null,
   "id": "c3d416c1",
   "metadata": {
    "id": "c3d416c1",
    "outputId": "92ae42d8-2df1-480d-faaa-52d0cd1cb302"
   },
   "outputs": [
    {
     "data": {
      "text/plain": [
       "20.196595419561532"
      ]
     },
     "execution_count": 63,
     "metadata": {},
     "output_type": "execute_result"
    }
   ],
   "source": [
    "final_model = smf.ols('Price~t+t_squared',data=DF1).fit()\n",
    "pred_final = pd.Series(final_model.predict(DF1[['t','t_squared']]))\n",
    "rmse_final_model = RMSE(DF1['Price'], pred_final)\n",
    "rmse_final_model"
   ]
  },
  {
   "cell_type": "code",
   "execution_count": null,
   "id": "bd43b5c9",
   "metadata": {
    "id": "bd43b5c9",
    "outputId": "b43cd115-ee9c-4286-e1fa-5e1c2dd8d7ae"
   },
   "outputs": [
    {
     "data": {
      "text/html": [
       "<div>\n",
       "<style scoped>\n",
       "    .dataframe tbody tr th:only-of-type {\n",
       "        vertical-align: middle;\n",
       "    }\n",
       "\n",
       "    .dataframe tbody tr th {\n",
       "        vertical-align: top;\n",
       "    }\n",
       "\n",
       "    .dataframe thead th {\n",
       "        text-align: right;\n",
       "    }\n",
       "</style>\n",
       "<table border=\"1\" class=\"dataframe\">\n",
       "  <thead>\n",
       "    <tr style=\"text-align: right;\">\n",
       "      <th></th>\n",
       "      <th>Actual</th>\n",
       "      <th>Predicted</th>\n",
       "    </tr>\n",
       "  </thead>\n",
       "  <tbody>\n",
       "    <tr>\n",
       "      <th>439</th>\n",
       "      <td>48.52</td>\n",
       "      <td>75.425351</td>\n",
       "    </tr>\n",
       "    <tr>\n",
       "      <th>440</th>\n",
       "      <td>52.20</td>\n",
       "      <td>75.542547</td>\n",
       "    </tr>\n",
       "    <tr>\n",
       "      <th>441</th>\n",
       "      <td>61.50</td>\n",
       "      <td>75.659557</td>\n",
       "    </tr>\n",
       "    <tr>\n",
       "      <th>442</th>\n",
       "      <td>59.16</td>\n",
       "      <td>75.776381</td>\n",
       "    </tr>\n",
       "    <tr>\n",
       "      <th>443</th>\n",
       "      <td>63.58</td>\n",
       "      <td>75.893017</td>\n",
       "    </tr>\n",
       "    <tr>\n",
       "      <th>444</th>\n",
       "      <td>66.32</td>\n",
       "      <td>76.009467</td>\n",
       "    </tr>\n",
       "    <tr>\n",
       "      <th>445</th>\n",
       "      <td>73.47</td>\n",
       "      <td>76.125731</td>\n",
       "    </tr>\n",
       "    <tr>\n",
       "      <th>446</th>\n",
       "      <td>73.95</td>\n",
       "      <td>76.241808</td>\n",
       "    </tr>\n",
       "    <tr>\n",
       "      <th>447</th>\n",
       "      <td>68.50</td>\n",
       "      <td>76.357698</td>\n",
       "    </tr>\n",
       "    <tr>\n",
       "      <th>448</th>\n",
       "      <td>75.03</td>\n",
       "      <td>76.473402</td>\n",
       "    </tr>\n",
       "    <tr>\n",
       "      <th>449</th>\n",
       "      <td>83.57</td>\n",
       "      <td>76.588919</td>\n",
       "    </tr>\n",
       "    <tr>\n",
       "      <th>450</th>\n",
       "      <td>66.18</td>\n",
       "      <td>76.704250</td>\n",
       "    </tr>\n",
       "    <tr>\n",
       "      <th>451</th>\n",
       "      <td>75.21</td>\n",
       "      <td>76.819394</td>\n",
       "    </tr>\n",
       "    <tr>\n",
       "      <th>452</th>\n",
       "      <td>88.15</td>\n",
       "      <td>76.934351</td>\n",
       "    </tr>\n",
       "    <tr>\n",
       "      <th>453</th>\n",
       "      <td>95.72</td>\n",
       "      <td>77.049122</td>\n",
       "    </tr>\n",
       "    <tr>\n",
       "      <th>454</th>\n",
       "      <td>100.28</td>\n",
       "      <td>77.163706</td>\n",
       "    </tr>\n",
       "    <tr>\n",
       "      <th>455</th>\n",
       "      <td>104.69</td>\n",
       "      <td>77.278104</td>\n",
       "    </tr>\n",
       "    <tr>\n",
       "      <th>456</th>\n",
       "      <td>114.67</td>\n",
       "      <td>77.392315</td>\n",
       "    </tr>\n",
       "    <tr>\n",
       "      <th>457</th>\n",
       "      <td>105.76</td>\n",
       "      <td>77.506340</td>\n",
       "    </tr>\n",
       "    <tr>\n",
       "      <th>458</th>\n",
       "      <td>98.62</td>\n",
       "      <td>77.620177</td>\n",
       "    </tr>\n",
       "    <tr>\n",
       "      <th>459</th>\n",
       "      <td>89.55</td>\n",
       "      <td>77.733829</td>\n",
       "    </tr>\n",
       "    <tr>\n",
       "      <th>460</th>\n",
       "      <td>79.49</td>\n",
       "      <td>77.847293</td>\n",
       "    </tr>\n",
       "    <tr>\n",
       "      <th>461</th>\n",
       "      <td>86.53</td>\n",
       "      <td>77.960572</td>\n",
       "    </tr>\n",
       "    <tr>\n",
       "      <th>462</th>\n",
       "      <td>80.56</td>\n",
       "      <td>78.073663</td>\n",
       "    </tr>\n",
       "    <tr>\n",
       "      <th>463</th>\n",
       "      <td>80.47</td>\n",
       "      <td>78.186568</td>\n",
       "    </tr>\n",
       "    <tr>\n",
       "      <th>464</th>\n",
       "      <td>80.11</td>\n",
       "      <td>78.299286</td>\n",
       "    </tr>\n",
       "    <tr>\n",
       "      <th>465</th>\n",
       "      <td>77.05</td>\n",
       "      <td>78.411818</td>\n",
       "    </tr>\n",
       "    <tr>\n",
       "      <th>466</th>\n",
       "      <td>75.67</td>\n",
       "      <td>78.524163</td>\n",
       "    </tr>\n",
       "    <tr>\n",
       "      <th>467</th>\n",
       "      <td>76.78</td>\n",
       "      <td>78.636322</td>\n",
       "    </tr>\n",
       "    <tr>\n",
       "      <th>468</th>\n",
       "      <td>70.04</td>\n",
       "      <td>78.748294</td>\n",
       "    </tr>\n",
       "  </tbody>\n",
       "</table>\n",
       "</div>"
      ],
      "text/plain": [
       "     Actual  Predicted\n",
       "439   48.52  75.425351\n",
       "440   52.20  75.542547\n",
       "441   61.50  75.659557\n",
       "442   59.16  75.776381\n",
       "443   63.58  75.893017\n",
       "444   66.32  76.009467\n",
       "445   73.47  76.125731\n",
       "446   73.95  76.241808\n",
       "447   68.50  76.357698\n",
       "448   75.03  76.473402\n",
       "449   83.57  76.588919\n",
       "450   66.18  76.704250\n",
       "451   75.21  76.819394\n",
       "452   88.15  76.934351\n",
       "453   95.72  77.049122\n",
       "454  100.28  77.163706\n",
       "455  104.69  77.278104\n",
       "456  114.67  77.392315\n",
       "457  105.76  77.506340\n",
       "458   98.62  77.620177\n",
       "459   89.55  77.733829\n",
       "460   79.49  77.847293\n",
       "461   86.53  77.960572\n",
       "462   80.56  78.073663\n",
       "463   80.47  78.186568\n",
       "464   80.11  78.299286\n",
       "465   77.05  78.411818\n",
       "466   75.67  78.524163\n",
       "467   76.78  78.636322\n",
       "468   70.04  78.748294"
      ]
     },
     "execution_count": 64,
     "metadata": {},
     "output_type": "execute_result"
    }
   ],
   "source": [
    "pred_dataf = pd.DataFrame({'Actual' : DF1.Price, 'Predicted' : pred_final})\n",
    "pred_dataf.tail(30)"
   ]
  },
  {
   "cell_type": "markdown",
   "id": "0df78623",
   "metadata": {
    "id": "0df78623"
   },
   "source": [
    "## ARIMA MODEL"
   ]
  },
  {
   "cell_type": "code",
   "execution_count": null,
   "id": "19a83375",
   "metadata": {
    "id": "19a83375"
   },
   "outputs": [],
   "source": [
    "# Import libraries\n",
    "from pandas import read_csv\n",
    "from matplotlib import pyplot\n",
    "from numpy import sqrt\n",
    "import warnings\n",
    "warnings.filterwarnings('ignore')\n",
    "import itertools\n",
    "import pandas as pd\n",
    "import numpy as np\n",
    "import matplotlib.pyplot as plt\n",
    "import statsmodels.api as sm"
   ]
  },
  {
   "cell_type": "code",
   "execution_count": null,
   "id": "14cdcfdb",
   "metadata": {
    "id": "14cdcfdb"
   },
   "outputs": [],
   "source": [
    "series = read_csv('C:/Users/HP/Downloads/OilPriceMonthly.csv', header=0, index_col=0, parse_dates=True)"
   ]
  },
  {
   "cell_type": "code",
   "execution_count": null,
   "id": "b23781ff",
   "metadata": {
    "id": "b23781ff",
    "outputId": "1857f9c6-0521-452d-928f-75eacb7fc19e"
   },
   "outputs": [
    {
     "data": {
      "text/html": [
       "<div>\n",
       "<style scoped>\n",
       "    .dataframe tbody tr th:only-of-type {\n",
       "        vertical-align: middle;\n",
       "    }\n",
       "\n",
       "    .dataframe tbody tr th {\n",
       "        vertical-align: top;\n",
       "    }\n",
       "\n",
       "    .dataframe thead th {\n",
       "        text-align: right;\n",
       "    }\n",
       "</style>\n",
       "<table border=\"1\" class=\"dataframe\">\n",
       "  <thead>\n",
       "    <tr style=\"text-align: right;\">\n",
       "      <th></th>\n",
       "      <th>Price</th>\n",
       "      <th>Open</th>\n",
       "      <th>High</th>\n",
       "      <th>Low</th>\n",
       "      <th>Volume</th>\n",
       "      <th>Chg%</th>\n",
       "    </tr>\n",
       "    <tr>\n",
       "      <th>Date</th>\n",
       "      <th></th>\n",
       "      <th></th>\n",
       "      <th></th>\n",
       "      <th></th>\n",
       "      <th></th>\n",
       "      <th></th>\n",
       "    </tr>\n",
       "  </thead>\n",
       "  <tbody>\n",
       "    <tr>\n",
       "      <th>May-84</th>\n",
       "      <td>30.83</td>\n",
       "      <td>30.30</td>\n",
       "      <td>31.50</td>\n",
       "      <td>30.10</td>\n",
       "      <td>40.25K</td>\n",
       "      <td>1.88%</td>\n",
       "    </tr>\n",
       "    <tr>\n",
       "      <th>Jun-84</th>\n",
       "      <td>29.75</td>\n",
       "      <td>30.86</td>\n",
       "      <td>30.88</td>\n",
       "      <td>29.04</td>\n",
       "      <td>39.40K</td>\n",
       "      <td>-3.50%</td>\n",
       "    </tr>\n",
       "    <tr>\n",
       "      <th>Jul-84</th>\n",
       "      <td>27.60</td>\n",
       "      <td>29.82</td>\n",
       "      <td>29.99</td>\n",
       "      <td>27.55</td>\n",
       "      <td>54.91K</td>\n",
       "      <td>-7.23%</td>\n",
       "    </tr>\n",
       "    <tr>\n",
       "      <th>Aug-84</th>\n",
       "      <td>29.23</td>\n",
       "      <td>27.76</td>\n",
       "      <td>30.00</td>\n",
       "      <td>27.73</td>\n",
       "      <td>65.85K</td>\n",
       "      <td>5.91%</td>\n",
       "    </tr>\n",
       "    <tr>\n",
       "      <th>Sep-84</th>\n",
       "      <td>29.66</td>\n",
       "      <td>29.06</td>\n",
       "      <td>29.85</td>\n",
       "      <td>28.84</td>\n",
       "      <td>35.82K</td>\n",
       "      <td>1.47%</td>\n",
       "    </tr>\n",
       "  </tbody>\n",
       "</table>\n",
       "</div>"
      ],
      "text/plain": [
       "        Price   Open   High    Low  Volume    Chg%\n",
       "Date                                              \n",
       "May-84  30.83  30.30  31.50  30.10  40.25K   1.88%\n",
       "Jun-84  29.75  30.86  30.88  29.04  39.40K  -3.50%\n",
       "Jul-84  27.60  29.82  29.99  27.55  54.91K  -7.23%\n",
       "Aug-84  29.23  27.76  30.00  27.73  65.85K   5.91%\n",
       "Sep-84  29.66  29.06  29.85  28.84  35.82K   1.47%"
      ]
     },
     "execution_count": 67,
     "metadata": {},
     "output_type": "execute_result"
    }
   ],
   "source": [
    "series.head()"
   ]
  },
  {
   "cell_type": "code",
   "execution_count": null,
   "id": "231d1e4b",
   "metadata": {
    "id": "231d1e4b",
    "outputId": "b31eb611-997e-473d-ccd8-8498f6fa2746"
   },
   "outputs": [
    {
     "data": {
      "text/html": [
       "<div>\n",
       "<style scoped>\n",
       "    .dataframe tbody tr th:only-of-type {\n",
       "        vertical-align: middle;\n",
       "    }\n",
       "\n",
       "    .dataframe tbody tr th {\n",
       "        vertical-align: top;\n",
       "    }\n",
       "\n",
       "    .dataframe thead th {\n",
       "        text-align: right;\n",
       "    }\n",
       "</style>\n",
       "<table border=\"1\" class=\"dataframe\">\n",
       "  <thead>\n",
       "    <tr style=\"text-align: right;\">\n",
       "      <th></th>\n",
       "      <th>Date</th>\n",
       "      <th>Price</th>\n",
       "      <th>Open</th>\n",
       "      <th>High</th>\n",
       "      <th>Low</th>\n",
       "      <th>Volume</th>\n",
       "      <th>Chg%</th>\n",
       "    </tr>\n",
       "  </thead>\n",
       "  <tbody>\n",
       "    <tr>\n",
       "      <th>0</th>\n",
       "      <td>May-84</td>\n",
       "      <td>30.83</td>\n",
       "      <td>30.30</td>\n",
       "      <td>31.50</td>\n",
       "      <td>30.10</td>\n",
       "      <td>40.25K</td>\n",
       "      <td>1.88%</td>\n",
       "    </tr>\n",
       "    <tr>\n",
       "      <th>1</th>\n",
       "      <td>Jun-84</td>\n",
       "      <td>29.75</td>\n",
       "      <td>30.86</td>\n",
       "      <td>30.88</td>\n",
       "      <td>29.04</td>\n",
       "      <td>39.40K</td>\n",
       "      <td>-3.50%</td>\n",
       "    </tr>\n",
       "    <tr>\n",
       "      <th>2</th>\n",
       "      <td>Jul-84</td>\n",
       "      <td>27.60</td>\n",
       "      <td>29.82</td>\n",
       "      <td>29.99</td>\n",
       "      <td>27.55</td>\n",
       "      <td>54.91K</td>\n",
       "      <td>-7.23%</td>\n",
       "    </tr>\n",
       "    <tr>\n",
       "      <th>3</th>\n",
       "      <td>Aug-84</td>\n",
       "      <td>29.23</td>\n",
       "      <td>27.76</td>\n",
       "      <td>30.00</td>\n",
       "      <td>27.73</td>\n",
       "      <td>65.85K</td>\n",
       "      <td>5.91%</td>\n",
       "    </tr>\n",
       "    <tr>\n",
       "      <th>4</th>\n",
       "      <td>Sep-84</td>\n",
       "      <td>29.66</td>\n",
       "      <td>29.06</td>\n",
       "      <td>29.85</td>\n",
       "      <td>28.84</td>\n",
       "      <td>35.82K</td>\n",
       "      <td>1.47%</td>\n",
       "    </tr>\n",
       "  </tbody>\n",
       "</table>\n",
       "</div>"
      ],
      "text/plain": [
       "     Date  Price   Open   High    Low  Volume    Chg%\n",
       "0  May-84  30.83  30.30  31.50  30.10  40.25K   1.88%\n",
       "1  Jun-84  29.75  30.86  30.88  29.04  39.40K  -3.50%\n",
       "2  Jul-84  27.60  29.82  29.99  27.55  54.91K  -7.23%\n",
       "3  Aug-84  29.23  27.76  30.00  27.73  65.85K   5.91%\n",
       "4  Sep-84  29.66  29.06  29.85  28.84  35.82K   1.47%"
      ]
     },
     "execution_count": 68,
     "metadata": {},
     "output_type": "execute_result"
    }
   ],
   "source": [
    "# Resetting index\n",
    "series1 = series.reset_index()\n",
    "series1.head()"
   ]
  },
  {
   "cell_type": "code",
   "execution_count": null,
   "id": "8af097c6",
   "metadata": {
    "id": "8af097c6",
    "outputId": "8a3a46f5-48a3-4f9a-a382-c961e2cdc7a5"
   },
   "outputs": [
    {
     "data": {
      "text/plain": [
       "<AxesSubplot:xlabel='Date'>"
      ]
     },
     "execution_count": 69,
     "metadata": {},
     "output_type": "execute_result"
    },
    {
     "data": {
      "image/png": "[encoded data removed]",
      "text/plain": [
       "<Figure size 720x576 with 1 Axes>"
      ]
     },
     "metadata": {},
     "output_type": "display_data"
    }
   ],
   "source": [
    "# line plot of time series\n",
    "from pandas import read_csv\n",
    "from matplotlib import pyplot\n",
    "series.Price.plot()"
   ]
  },
  {
   "cell_type": "code",
   "execution_count": null,
   "id": "091cdd55",
   "metadata": {
    "id": "091cdd55",
    "outputId": "0bff0c9f-d7b8-4b5c-fbaf-3d02e5b201c1"
   },
   "outputs": [
    {
     "name": "stdout",
     "output_type": "stream",
     "text": [
      "Dataset 375, Validation 94\n"
     ]
    }
   ],
   "source": [
    "# separate out a validation dataset (80%-training data and 20% test data)\n",
    "series1 =series.drop(['Open','High', 'Low','Volume','Chg%'],axis = 1)\n",
    "split_point = len(series1) - 94\n",
    "dataset, validation = series1[0:split_point], series1[split_point:]\n",
    "print('Dataset %d, Validation %d' % (len(dataset), len(validation)))\n",
    "dataset.to_csv('C:/Users/HP/Downloads/dataset.csv', header=False)\n",
    "validation.to_csv('C:/Users/HP/Downloads/validation.csv', header=False)"
   ]
  },
  {
   "cell_type": "markdown",
   "id": "7f9ab44e",
   "metadata": {
    "id": "7f9ab44e"
   },
   "source": [
    "### Persistence/ Base model"
   ]
  },
  {
   "cell_type": "code",
   "execution_count": null,
   "id": "70827b1f",
   "metadata": {
    "id": "70827b1f"
   },
   "outputs": [],
   "source": [
    "# evaluate a persistence model\n",
    "from pandas import read_csv\n",
    "from sklearn.metrics import mean_squared_error\n",
    "from math import sqrt\n",
    "# load data\n",
    "train = read_csv('C:/Users/HP/Downloads/dataset.csv', header=None, index_col=0, parse_dates=True, squeeze=True)\n",
    "# prepare data\n",
    "X = train.values\n",
    "X = X.astype('float32')\n",
    "train_size = int(len(X) * 0.80)\n",
    "train, test = X[0:train_size], X[train_size:]"
   ]
  },
  {
   "cell_type": "code",
   "execution_count": null,
   "id": "d947c265",
   "metadata": {
    "id": "d947c265",
    "outputId": "d5b25270-b425-43d2-a074-eabd98447023"
   },
   "outputs": [
    {
     "data": {
      "text/plain": [
       "75"
      ]
     },
     "execution_count": 72,
     "metadata": {},
     "output_type": "execute_result"
    }
   ],
   "source": [
    "len(test)"
   ]
  },
  {
   "cell_type": "code",
   "execution_count": null,
   "id": "30429dbd",
   "metadata": {
    "id": "30429dbd",
    "outputId": "8b9f73a5-a42b-45c1-cc0c-3d54078f5b02"
   },
   "outputs": [
    {
     "name": "stdout",
     "output_type": "stream",
     "text": [
      ">Predicted=51.1, Observed =66.310\n",
      ">Predicted=66.3, Observed =69.890\n",
      ">Predicted=69.9, Observed =69.450\n",
      ">Predicted=69.4, Observed =69.960\n",
      ">Predicted=70.0, Observed =70.610\n",
      ">Predicted=70.6, Observed =77.000\n",
      ">Predicted=77.0, Observed =77.280\n",
      ">Predicted=77.3, Observed =79.360\n",
      ">Predicted=79.4, Observed =72.890\n",
      ">Predicted=72.9, Observed =79.660\n",
      ">Predicted=79.7, Observed =83.760\n",
      ">Predicted=83.8, Observed =86.150\n",
      ">Predicted=86.2, Observed =73.970\n",
      ">Predicted=74.0, Observed =75.630\n",
      ">Predicted=75.6, Observed =78.950\n",
      ">Predicted=78.9, Observed =71.920\n",
      ">Predicted=71.9, Observed =79.970\n",
      ">Predicted=80.0, Observed =81.430\n",
      ">Predicted=81.4, Observed =84.110\n",
      ">Predicted=84.1, Observed =91.380\n",
      ">Predicted=91.4, Observed =92.190\n",
      ">Predicted=92.2, Observed =96.970\n",
      ">Predicted=97.0, Observed =106.720\n",
      ">Predicted=106.7, Observed =113.930\n",
      ">Predicted=113.9, Observed =102.700\n",
      ">Predicted=102.7, Observed =95.420\n",
      ">Predicted=95.4, Observed =95.700\n",
      ">Predicted=95.7, Observed =88.810\n",
      ">Predicted=88.8, Observed =79.200\n",
      ">Predicted=79.2, Observed =93.190\n",
      ">Predicted=93.2, Observed =100.360\n",
      ">Predicted=100.4, Observed =98.830\n",
      ">Predicted=98.8, Observed =98.480\n",
      ">Predicted=98.5, Observed =107.070\n",
      ">Predicted=107.1, Observed =103.020\n",
      ">Predicted=103.0, Observed =104.870\n",
      ">Predicted=104.9, Observed =86.530\n",
      ">Predicted=86.5, Observed =84.960\n",
      ">Predicted=85.0, Observed =88.060\n",
      ">Predicted=88.1, Observed =96.470\n",
      ">Predicted=96.5, Observed =92.190\n",
      ">Predicted=92.2, Observed =86.240\n",
      ">Predicted=86.2, Observed =88.910\n",
      ">Predicted=88.9, Observed =91.820\n",
      ">Predicted=91.8, Observed =97.490\n",
      ">Predicted=97.5, Observed =92.050\n",
      ">Predicted=92.1, Observed =97.230\n",
      ">Predicted=97.2, Observed =93.460\n",
      ">Predicted=93.5, Observed =91.970\n",
      ">Predicted=92.0, Observed =96.560\n",
      ">Predicted=96.6, Observed =105.030\n",
      ">Predicted=105.0, Observed =107.650\n",
      ">Predicted=107.7, Observed =102.330\n",
      ">Predicted=102.3, Observed =96.380\n",
      ">Predicted=96.4, Observed =92.720\n",
      ">Predicted=92.7, Observed =98.420\n",
      ">Predicted=98.4, Observed =97.490\n",
      ">Predicted=97.5, Observed =102.590\n",
      ">Predicted=102.6, Observed =101.580\n",
      ">Predicted=101.6, Observed =99.740\n",
      ">Predicted=99.7, Observed =102.710\n",
      ">Predicted=102.7, Observed =105.370\n",
      ">Predicted=105.4, Observed =98.170\n",
      ">Predicted=98.2, Observed =95.960\n",
      ">Predicted=96.0, Observed =91.160\n",
      ">Predicted=91.2, Observed =80.540\n",
      ">Predicted=80.5, Observed =66.150\n",
      ">Predicted=66.2, Observed =53.270\n",
      ">Predicted=53.3, Observed =48.240\n",
      ">Predicted=48.2, Observed =49.760\n",
      ">Predicted=49.8, Observed =47.600\n",
      ">Predicted=47.6, Observed =59.630\n",
      ">Predicted=59.6, Observed =60.300\n",
      ">Predicted=60.3, Observed =59.470\n",
      ">Predicted=59.5, Observed =47.120\n"
     ]
    },
    {
     "ename": "ValueError",
     "evalue": "Found input variables with inconsistent numbers of samples: [75, 82]",
     "output_type": "error",
     "traceback": [
      "\u001b[1;31m---------------------------------------------------------------------------\u001b[0m",
      "\u001b[1;31mValueError\u001b[0m                                Traceback (most recent call last)",
      "\u001b[1;32m~\\AppData\\Local\\Temp/ipykernel_8168/2542770289.py\u001b[0m in \u001b[0;36m<module>\u001b[1;34m\u001b[0m\n\u001b[0;32m     10\u001b[0m     \u001b[0mprint\u001b[0m\u001b[1;33m(\u001b[0m\u001b[1;34m'>Predicted=%.1f, Observed =%.3f'\u001b[0m \u001b[1;33m%\u001b[0m \u001b[1;33m(\u001b[0m\u001b[0myhat\u001b[0m\u001b[1;33m,\u001b[0m \u001b[0mobs\u001b[0m\u001b[1;33m)\u001b[0m\u001b[1;33m)\u001b[0m\u001b[1;33m\u001b[0m\u001b[1;33m\u001b[0m\u001b[0m\n\u001b[0;32m     11\u001b[0m \u001b[1;31m# report performance\u001b[0m\u001b[1;33m\u001b[0m\u001b[1;33m\u001b[0m\u001b[0m\n\u001b[1;32m---> 12\u001b[1;33m \u001b[0mrmse\u001b[0m \u001b[1;33m=\u001b[0m \u001b[0msqrt\u001b[0m\u001b[1;33m(\u001b[0m\u001b[0mmean_squared_error\u001b[0m\u001b[1;33m(\u001b[0m\u001b[0mtest\u001b[0m\u001b[1;33m,\u001b[0m \u001b[0mpredictions\u001b[0m\u001b[1;33m)\u001b[0m\u001b[1;33m)\u001b[0m\u001b[1;33m\u001b[0m\u001b[1;33m\u001b[0m\u001b[0m\n\u001b[0m\u001b[0;32m     13\u001b[0m \u001b[0mprint\u001b[0m\u001b[1;33m(\u001b[0m\u001b[1;34m'RMSE: %.3f'\u001b[0m \u001b[1;33m%\u001b[0m \u001b[0mrmse\u001b[0m\u001b[1;33m)\u001b[0m\u001b[1;33m\u001b[0m\u001b[1;33m\u001b[0m\u001b[0m\n",
      "\u001b[1;32m~\\anaconda3\\lib\\site-packages\\sklearn\\utils\\validation.py\u001b[0m in \u001b[0;36minner_f\u001b[1;34m(*args, **kwargs)\u001b[0m\n\u001b[0;32m     61\u001b[0m             \u001b[0mextra_args\u001b[0m \u001b[1;33m=\u001b[0m \u001b[0mlen\u001b[0m\u001b[1;33m(\u001b[0m\u001b[0margs\u001b[0m\u001b[1;33m)\u001b[0m \u001b[1;33m-\u001b[0m \u001b[0mlen\u001b[0m\u001b[1;33m(\u001b[0m\u001b[0mall_args\u001b[0m\u001b[1;33m)\u001b[0m\u001b[1;33m\u001b[0m\u001b[1;33m\u001b[0m\u001b[0m\n\u001b[0;32m     62\u001b[0m             \u001b[1;32mif\u001b[0m \u001b[0mextra_args\u001b[0m \u001b[1;33m<=\u001b[0m \u001b[1;36m0\u001b[0m\u001b[1;33m:\u001b[0m\u001b[1;33m\u001b[0m\u001b[1;33m\u001b[0m\u001b[0m\n\u001b[1;32m---> 63\u001b[1;33m                 \u001b[1;32mreturn\u001b[0m \u001b[0mf\u001b[0m\u001b[1;33m(\u001b[0m\u001b[1;33m*\u001b[0m\u001b[0margs\u001b[0m\u001b[1;33m,\u001b[0m \u001b[1;33m**\u001b[0m\u001b[0mkwargs\u001b[0m\u001b[1;33m)\u001b[0m\u001b[1;33m\u001b[0m\u001b[1;33m\u001b[0m\u001b[0m\n\u001b[0m\u001b[0;32m     64\u001b[0m \u001b[1;33m\u001b[0m\u001b[0m\n\u001b[0;32m     65\u001b[0m             \u001b[1;31m# extra_args > 0\u001b[0m\u001b[1;33m\u001b[0m\u001b[1;33m\u001b[0m\u001b[0m\n",
      "\u001b[1;32m~\\anaconda3\\lib\\site-packages\\sklearn\\metrics\\_regression.py\u001b[0m in \u001b[0;36mmean_squared_error\u001b[1;34m(y_true, y_pred, sample_weight, multioutput, squared)\u001b[0m\n\u001b[0;32m    333\u001b[0m     \u001b[1;36m0.825\u001b[0m\u001b[1;33m...\u001b[0m\u001b[1;33m\u001b[0m\u001b[1;33m\u001b[0m\u001b[0m\n\u001b[0;32m    334\u001b[0m     \"\"\"\n\u001b[1;32m--> 335\u001b[1;33m     y_type, y_true, y_pred, multioutput = _check_reg_targets(\n\u001b[0m\u001b[0;32m    336\u001b[0m         y_true, y_pred, multioutput)\n\u001b[0;32m    337\u001b[0m     \u001b[0mcheck_consistent_length\u001b[0m\u001b[1;33m(\u001b[0m\u001b[0my_true\u001b[0m\u001b[1;33m,\u001b[0m \u001b[0my_pred\u001b[0m\u001b[1;33m,\u001b[0m \u001b[0msample_weight\u001b[0m\u001b[1;33m)\u001b[0m\u001b[1;33m\u001b[0m\u001b[1;33m\u001b[0m\u001b[0m\n",
      "\u001b[1;32m~\\anaconda3\\lib\\site-packages\\sklearn\\metrics\\_regression.py\u001b[0m in \u001b[0;36m_check_reg_targets\u001b[1;34m(y_true, y_pred, multioutput, dtype)\u001b[0m\n\u001b[0;32m     86\u001b[0m         \u001b[0mthe\u001b[0m \u001b[0mdtype\u001b[0m \u001b[0margument\u001b[0m \u001b[0mpassed\u001b[0m \u001b[0mto\u001b[0m \u001b[0mcheck_array\u001b[0m\u001b[1;33m.\u001b[0m\u001b[1;33m\u001b[0m\u001b[1;33m\u001b[0m\u001b[0m\n\u001b[0;32m     87\u001b[0m     \"\"\"\n\u001b[1;32m---> 88\u001b[1;33m     \u001b[0mcheck_consistent_length\u001b[0m\u001b[1;33m(\u001b[0m\u001b[0my_true\u001b[0m\u001b[1;33m,\u001b[0m \u001b[0my_pred\u001b[0m\u001b[1;33m)\u001b[0m\u001b[1;33m\u001b[0m\u001b[1;33m\u001b[0m\u001b[0m\n\u001b[0m\u001b[0;32m     89\u001b[0m     \u001b[0my_true\u001b[0m \u001b[1;33m=\u001b[0m \u001b[0mcheck_array\u001b[0m\u001b[1;33m(\u001b[0m\u001b[0my_true\u001b[0m\u001b[1;33m,\u001b[0m \u001b[0mensure_2d\u001b[0m\u001b[1;33m=\u001b[0m\u001b[1;32mFalse\u001b[0m\u001b[1;33m,\u001b[0m \u001b[0mdtype\u001b[0m\u001b[1;33m=\u001b[0m\u001b[0mdtype\u001b[0m\u001b[1;33m)\u001b[0m\u001b[1;33m\u001b[0m\u001b[1;33m\u001b[0m\u001b[0m\n\u001b[0;32m     90\u001b[0m     \u001b[0my_pred\u001b[0m \u001b[1;33m=\u001b[0m \u001b[0mcheck_array\u001b[0m\u001b[1;33m(\u001b[0m\u001b[0my_pred\u001b[0m\u001b[1;33m,\u001b[0m \u001b[0mensure_2d\u001b[0m\u001b[1;33m=\u001b[0m\u001b[1;32mFalse\u001b[0m\u001b[1;33m,\u001b[0m \u001b[0mdtype\u001b[0m\u001b[1;33m=\u001b[0m\u001b[0mdtype\u001b[0m\u001b[1;33m)\u001b[0m\u001b[1;33m\u001b[0m\u001b[1;33m\u001b[0m\u001b[0m\n",
      "\u001b[1;32m~\\anaconda3\\lib\\site-packages\\sklearn\\utils\\validation.py\u001b[0m in \u001b[0;36mcheck_consistent_length\u001b[1;34m(*arrays)\u001b[0m\n\u001b[0;32m    317\u001b[0m     \u001b[0muniques\u001b[0m \u001b[1;33m=\u001b[0m \u001b[0mnp\u001b[0m\u001b[1;33m.\u001b[0m\u001b[0munique\u001b[0m\u001b[1;33m(\u001b[0m\u001b[0mlengths\u001b[0m\u001b[1;33m)\u001b[0m\u001b[1;33m\u001b[0m\u001b[1;33m\u001b[0m\u001b[0m\n\u001b[0;32m    318\u001b[0m     \u001b[1;32mif\u001b[0m \u001b[0mlen\u001b[0m\u001b[1;33m(\u001b[0m\u001b[0muniques\u001b[0m\u001b[1;33m)\u001b[0m \u001b[1;33m>\u001b[0m \u001b[1;36m1\u001b[0m\u001b[1;33m:\u001b[0m\u001b[1;33m\u001b[0m\u001b[1;33m\u001b[0m\u001b[0m\n\u001b[1;32m--> 319\u001b[1;33m         raise ValueError(\"Found input variables with inconsistent numbers of\"\n\u001b[0m\u001b[0;32m    320\u001b[0m                          \" samples: %r\" % [int(l) for l in lengths])\n\u001b[0;32m    321\u001b[0m \u001b[1;33m\u001b[0m\u001b[0m\n",
      "\u001b[1;31mValueError\u001b[0m: Found input variables with inconsistent numbers of samples: [75, 82]"
     ]
    }
   ],
   "source": [
    "# walk-forward validation\n",
    "history = [x for x in train]\n",
    "predictions = list\n",
    "for i in range(len(test)):\n",
    "    yhat = history[-1]\n",
    "    predictions.append(yhat)\n",
    "# observation\n",
    "    obs = test[i]\n",
    "    history.append(obs)\n",
    "    print('>Predicted=%.1f, Observed =%.3f' % (yhat, obs))\n",
    "# report performance\n",
    "rmse = sqrt(mean_squared_error(test, predictions))\n",
    "print('RMSE: %.3f' % rmse)"
   ]
  },
  {
   "cell_type": "markdown",
   "id": "1c20112e",
   "metadata": {
    "id": "1c20112e"
   },
   "source": [
    "### ARIMA Hyperparameter"
   ]
  },
  {
   "cell_type": "code",
   "execution_count": null,
   "id": "5d9236f9",
   "metadata": {
    "id": "5d9236f9"
   },
   "outputs": [],
   "source": [
    "# grid search ARIMA parameters for a time series\n",
    "import warnings\n",
    "from pandas import read_csv\n",
    "from statsmodels.tsa.arima_model import ARIMA\n",
    "from sklearn.metrics import mean_squared_error\n",
    "from math import sqrt\n",
    "# evaluate an ARIMA model for a given order (p,d,q) and return RMSE\n",
    "def evaluate_arima_model(X, arima_order):\n",
    "# prepare training dataset\n",
    "    X = X.astype('float32')\n",
    "    train_size = int(len(X) * 0.80)\n",
    "    train, test = X[0:train_size], X[train_size:]\n",
    "    history = [x for x in train]\n",
    "# make predictions\n",
    "    predictions = list()\n",
    "    for t in range(len(test)):\n",
    "        model = ARIMA(history, order=arima_order)\n",
    "# model_fit = model.fit(disp=0)\n",
    "        model_fit = model.fit(disp=0)\n",
    "        yhat = model_fit.forecast()[0]\n",
    "        predictions.append(yhat)\n",
    "        history.append(test[t])\n",
    "# calculate out of sample error\n",
    "    rmse = sqrt(mean_squared_error(test, predictions))\n",
    "    return rmse"
   ]
  },
  {
   "cell_type": "markdown",
   "id": "13e70d8b",
   "metadata": {
    "id": "13e70d8b"
   },
   "source": [
    "### Grid search for p,d,q values"
   ]
  },
  {
   "cell_type": "code",
   "execution_count": null,
   "id": "035ae3ba",
   "metadata": {
    "id": "035ae3ba"
   },
   "outputs": [],
   "source": [
    "# evaluate combinations of p, d and q values for an ARIMA model\n",
    "def evaluate_models(dataset, p_values, d_values, q_values):\n",
    "    dataset = dataset.astype('float32')\n",
    "    best_score, best_cfg = float('inf'), None\n",
    "    for p in p_values:\n",
    "        for d in d_values:\n",
    "            for q in q_values:\n",
    "                order = (p,d,q)\n",
    "                try:\n",
    "                    rmse = evaluate_arima_model(train, order)\n",
    "                    if rmse < best_score:\n",
    "                        best_score, best_cfg = rmse, order\n",
    "                    print('ARIMA%s RMSE=%.3f' % (order,rmse))\n",
    "                except Exception as e :\n",
    "                    print(e)\n",
    "                    continue\n",
    "    print('Best ARIMA%s RMSE=%.3f' % (best_cfg, best_score))"
   ]
  },
  {
   "cell_type": "code",
   "execution_count": null,
   "id": "2d004c89",
   "metadata": {
    "id": "2d004c89"
   },
   "outputs": [],
   "source": [
    "# load dataset\n",
    "train = pd.read_csv('C:/Users/HP/Downloads/dataset.csv', header = None , index_col =0, parse_dates = True, squeeze =True)\n",
    "# evaluate parameters\n",
    "p_values = range(0,3)\n",
    "d_values = range(0,3)\n",
    "q_values = range(0,3)\n",
    "warnings.filterwarnings(\"ignore\")\n",
    "evaluate_models(train.values,p_values, d_values, q_values)"
   ]
  },
  {
   "cell_type": "code",
   "execution_count": null,
   "id": "2dc94a63",
   "metadata": {
    "id": "2dc94a63"
   },
   "outputs": [],
   "source": [
    "p_values, d_values, q_values"
   ]
  },
  {
   "cell_type": "markdown",
   "id": "e3c36cca",
   "metadata": {
    "id": "e3c36cca"
   },
   "source": [
    "### Build model based on the optimized values"
   ]
  },
  {
   "cell_type": "code",
   "execution_count": null,
   "id": "8d611612",
   "metadata": {
    "id": "8d611612"
   },
   "outputs": [],
   "source": [
    "# save finalized model to file\n",
    "from pandas import read_csv\n",
    "from statsmodels.tsa.arima_model import ARIMA\n",
    "import numpy\n",
    "import warnings\n",
    "warnings.filterwarnings('ignore')"
   ]
  },
  {
   "cell_type": "code",
   "execution_count": null,
   "id": "cbda6e0c",
   "metadata": {
    "id": "cbda6e0c"
   },
   "outputs": [],
   "source": [
    "# load data\n",
    "train = read_csv('C:/Users/HP/Downloads/dataset.csv', index_col=0, parse_dates=True)\n",
    "# prepare data\n",
    "X = train.values\n",
    "X = X.astype('float32')"
   ]
  },
  {
   "cell_type": "code",
   "execution_count": null,
   "id": "827d78b6",
   "metadata": {
    "id": "827d78b6"
   },
   "outputs": [],
   "source": [
    "# fit model\n",
    "model = ARIMA(X, order=(2, 0, 2))\n",
    "model_fit = model.fit()\n",
    "forecast=model_fit.forecast(steps=47)[0]\n",
    "model_fit.plot_predict(2,469)\n",
    "plt.show()"
   ]
  },
  {
   "cell_type": "code",
   "execution_count": null,
   "id": "2d9db9b0",
   "metadata": {
    "id": "2d9db9b0"
   },
   "outputs": [],
   "source": [
    "#Error on the test data\n",
    "val=pd.read_csv('C:/Users/HP/Downloads/validation.csv',header=None)\n",
    "rmse = sqrt(mean_squared_error(val[1], forecast))\n",
    "rmse"
   ]
  },
  {
   "cell_type": "code",
   "execution_count": null,
   "id": "c8b3038e",
   "metadata": {
    "id": "c8b3038e"
   },
   "outputs": [],
   "source": [
    "from sklearn.metrics import mean_absolute_percentage_error\n",
    "MAPE = mean_absolute_percentage_error(val[1], forecast)\n",
    "MAPE"
   ]
  },
  {
   "cell_type": "code",
   "execution_count": null,
   "id": "eb57600b",
   "metadata": {
    "id": "eb57600b"
   },
   "outputs": [],
   "source": [
    "#hw_model.save('hw_model.json')"
   ]
  },
  {
   "cell_type": "markdown",
   "id": "3e7bc237",
   "metadata": {
    "id": "3e7bc237"
   },
   "source": [
    "## Create a Pickle File using Serilization and dup Simple Linear Exponentional Model"
   ]
  },
  {
   "cell_type": "code",
   "execution_count": null,
   "id": "5f48f2ac",
   "metadata": {
    "id": "5f48f2ac"
   },
   "outputs": [],
   "source": [
    "import pickle\n",
    "pickle_out = open(\"ses_model.pkl\",\"wb\")\n",
    "pickle.dump(ses_model,pickle_out)\n",
    "pickle_out.close()"
   ]
  },
  {
   "cell_type": "code",
   "execution_count": 1,
   "id": "fe00975e",
   "metadata": {
    "executionInfo": {
     "elapsed": 13,
     "status": "ok",
     "timestamp": 1686658536546,
     "user": {
      "displayName": "Venkat Pulavarthi",
      "userId": "15035141426138979437"
     },
     "user_tz": -330
    },
    "id": "fe00975e"
   },
   "outputs": [],
   "source": [
    "import numpy as np"
   ]
  },
  {
   "cell_type": "code",
   "execution_count": 2,
   "id": "7f94fd85",
   "metadata": {
    "colab": {
     "base_uri": "https://localhost:8080/",
     "height": 165
    },
    "executionInfo": {
     "elapsed": 1608,
     "status": "error",
     "timestamp": 1686658538145,
     "user": {
      "displayName": "Venkat Pulavarthi",
      "userId": "15035141426138979437"
     },
     "user_tz": -330
    },
    "id": "7f94fd85",
    "outputId": "aff3ee6a-e1d8-475b-a27b-a309db475624"
   },
   "outputs": [
    {
     "ename": "NameError",
     "evalue": "ignored",
     "output_type": "error",
     "traceback": [
      "\u001b[0;31m---------------------------------------------------------------------------\u001b[0m",
      "\u001b[0;31mNameError\u001b[0m                                 Traceback (most recent call last)",
      "\u001b[0;32m<ipython-input-2-0fbe23477a72>\u001b[0m in \u001b[0;36m<cell line: 1>\u001b[0;34m()\u001b[0m\n\u001b[0;32m----> 1\u001b[0;31m \u001b[0mses_model\u001b[0m\u001b[0;34m.\u001b[0m\u001b[0mpredict\u001b[0m\u001b[0;34m(\u001b[0m\u001b[0;36m200\u001b[0m\u001b[0;34m,\u001b[0m\u001b[0;36m294\u001b[0m\u001b[0;34m)\u001b[0m\u001b[0;34m\u001b[0m\u001b[0;34m\u001b[0m\u001b[0m\n\u001b[0m",
      "\u001b[0;31mNameError\u001b[0m: name 'ses_model' is not defined"
     ]
    }
   ],
   "source": [
    "ses_model.predict(200,294)"
   ]
  },
  {
   "cell_type": "code",
   "execution_count": null,
   "id": "cce86ff7",
   "metadata": {
    "id": "cce86ff7"
   },
   "outputs": [],
   "source": [
    "import pickle\n",
    "pickle_out = open(\"model_fit.pkl\",\"wb\")\n",
    "pickle.dump(model_fit,pickle_out)\n",
    "pickle_out.close()"
   ]
  },
  {
   "cell_type": "code",
   "execution_count": null,
   "id": "b8827b04",
   "metadata": {
    "id": "b8827b04"
   },
   "outputs": [],
   "source": []
  }
 ],
 "metadata": {
  "colab": {
   "provenance": []
  },
  "kernelspec": {
   "display_name": "Python 3 (ipykernel)",
   "language": "python",
   "name": "python3"
  },
  "language_info": {
   "codemirror_mode": {
    "name": "ipython",
    "version": 3
   },
   "file_extension": ".py",
   "mimetype": "text/x-python",
   "name": "python",
   "nbconvert_exporter": "python",
   "pygments_lexer": "ipython3",
   "version": "3.9.13"
  }
 },
 "nbformat": 4,
 "nbformat_minor": 5
}
